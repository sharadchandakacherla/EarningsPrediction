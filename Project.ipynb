{
  "cells": [
    {
      "cell_type": "code",
      "execution_count": null,
      "metadata": {
        "id": "0FDvIACPlWxN"
      },
      "outputs": [],
      "source": [
        "#.astype(df.dtypes.to_dict())"
      ]
    },
    {
      "cell_type": "code",
      "execution_count": null,
      "metadata": {
        "colab": {
          "base_uri": "https://localhost:8080/",
          "height": 87
        },
        "id": "LbxK6g2-lX5z",
        "outputId": "e2a1f630-9545-4ddd-b0cc-682ee5e0bb32"
      },
      "outputs": [
        {
          "output_type": "execute_result",
          "data": {
            "text/plain": [
              "'Points learnt:\\n1. Use F1 score as metric instead of accuracy for doing stratified cv since dataset is imbalanced, using accuracy not appropriate\\n  1.1 chose binary f-1 score while choosing average=\"\" we can try binary(give more wieghtage to positives i.e >50k), weighted, macro\\n2. Doing imputation using mode-to do dropping the columns (show comparative study for different types of imputation)\\n3. Scaling the numerical columns using standard scaler\\n4. One-hot encoding for categorical features.\\n5. k best feature selection post PCA\\n    1.1 trying with PCA disabled\\n'"
            ],
            "application/vnd.google.colaboratory.intrinsic+json": {
              "type": "string"
            }
          },
          "metadata": {},
          "execution_count": 81
        }
      ],
      "source": [
        "'''Points learnt:\n",
        "1. Use F1 score as metric instead of accuracy for doing stratified cv since dataset is imbalanced, using accuracy not appropriate\n",
        "  1.1 chose binary f-1 score while choosing average=\"\" we can try binary(give more wieghtage to positives i.e >50k), weighted, macro\n",
        "2. Doing imputation using mode-to do dropping the columns (show comparative study for different types of imputation)\n",
        "3. Scaling the numerical columns using standard scaler\n",
        "4. One-hot encoding for categorical features.\n",
        "5. k best feature selection post PCA\n",
        "    1.1 trying with PCA disabled\n",
        "'''"
      ]
    },
    {
      "cell_type": "code",
      "execution_count": null,
      "metadata": {
        "colab": {
          "base_uri": "https://localhost:8080/",
          "height": 70
        },
        "id": "yBCHv5NoE1yl",
        "outputId": "827eb28c-60ea-46c1-b6aa-2fe53364aae4"
      },
      "outputs": [
        {
          "output_type": "execute_result",
          "data": {
            "text/plain": [
              "'\\nTo DO: \\n1. Remove other countries\\n2. Oversampling\\n3. Drop missing values rows\\n4. Remove education\\n5. Hyperparam tuning: For RF increasing the no of splits reduced the F1 score on training which is more closer to the test value F1 score\\n6. Plot Education information and plots of feature values versus count of feature values(frequency histogram)\\n7. Plot ROC-AUC curve after cross validation.\\n'"
            ],
            "application/vnd.google.colaboratory.intrinsic+json": {
              "type": "string"
            }
          },
          "metadata": {},
          "execution_count": 82
        }
      ],
      "source": [
        "'''\n",
        "To DO: \n",
        "1. Remove other countries\n",
        "2. Oversampling\n",
        "3. Drop missing values rows\n",
        "4. Remove education\n",
        "5. Hyperparam tuning: For RF increasing the no of splits reduced the F1 score on training which is more closer to the test value F1 score\n",
        "6. Plot Education information and plots of feature values versus count of feature values(frequency histogram)\n",
        "7. Plot ROC-AUC curve after cross validation.\n",
        "'''"
      ]
    },
    {
      "cell_type": "code",
      "execution_count": null,
      "metadata": {
        "id": "oUfFCtTiRfbs"
      },
      "outputs": [],
      "source": [
        "import pandas as pd\n",
        "import numpy as np"
      ]
    },
    {
      "cell_type": "code",
      "execution_count": null,
      "metadata": {
        "id": "Z9idT1w3aWZH"
      },
      "outputs": [],
      "source": [
        "# testData=[[1,2],[3,4],[5,6]]\n",
        "# dft=pd.DataFrame(testData,columns=['a','b'])\n",
        "# dft.columns=['ba','af']\n",
        "# dft.head()"
      ]
    },
    {
      "cell_type": "code",
      "execution_count": null,
      "metadata": {
        "id": "l00GYUYzRmFe"
      },
      "outputs": [],
      "source": [
        "# from google.colab import files\n",
        " \n",
        " \n",
        "# uploaded = files.upload()"
      ]
    },
    {
      "cell_type": "code",
      "execution_count": null,
      "metadata": {
        "id": "nVletTUGR24o"
      },
      "outputs": [],
      "source": [
        "# import io\n",
        " \n",
        "# df = pd.read_csv(io.BytesIO(uploaded['adultTrain.csv']))\n",
        "# #print(df.columns)\n"
      ]
    },
    {
      "cell_type": "code",
      "execution_count": null,
      "metadata": {
        "colab": {
          "base_uri": "https://localhost:8080/"
        },
        "id": "OzUhXpEHTmMP",
        "outputId": "9a0ff7c6-5344-4c0a-bd34-1fc08eec180f"
      },
      "outputs": [
        {
          "output_type": "stream",
          "name": "stdout",
          "text": [
            "Drive already mounted at /content/gdrive; to attempt to forcibly remount, call drive.mount(\"/content/gdrive\", force_remount=True).\n"
          ]
        }
      ],
      "source": [
        "from google.colab import drive\n",
        "drive.mount(\"/content/gdrive\");"
      ]
    },
    {
      "cell_type": "code",
      "execution_count": null,
      "metadata": {
        "colab": {
          "base_uri": "https://localhost:8080/"
        },
        "id": "VI7sUoM0TucE",
        "outputId": "0858009d-6a72-4f12-f337-afa08b00a998"
      },
      "outputs": [
        {
          "output_type": "stream",
          "name": "stdout",
          "text": [
            "-rw------- 1 root root 3844218 Nov 30 02:10 /content/gdrive/MyDrive/adultTrain.csv\n"
          ]
        }
      ],
      "source": [
        "!ls -l /content/gdrive/MyDrive/adultTrain.csv\n"
      ]
    },
    {
      "cell_type": "code",
      "execution_count": null,
      "metadata": {
        "id": "8fB1hUb2Tfw_"
      },
      "outputs": [],
      "source": [
        "from google.colab import drive\n",
        "#drive.mount(\"/content/gdrive\");\n",
        "\n",
        "dataset_path= '/content/gdrive/MyDrive/adultTrain.csv'\n",
        "#dataset_train_path='{0}'.format(dataset_path);"
      ]
    },
    {
      "cell_type": "code",
      "execution_count": null,
      "metadata": {
        "id": "3kRtLg3CUEdR"
      },
      "outputs": [],
      "source": [
        "df = pd.read_csv(dataset_path)"
      ]
    },
    {
      "cell_type": "code",
      "execution_count": null,
      "metadata": {
        "colab": {
          "base_uri": "https://localhost:8080/",
          "height": 354
        },
        "id": "vFlIThQemXQs",
        "outputId": "44e97816-b4dc-4661-8422-e34fb4429100"
      },
      "outputs": [
        {
          "output_type": "execute_result",
          "data": {
            "text/plain": [
              "   Age          Workclass  fnlwgt   Education  Education-num  \\\n",
              "0   39          State-gov   77516   Bachelors             13   \n",
              "1   50   Self-emp-not-inc   83311   Bachelors             13   \n",
              "2   38            Private  215646     HS-grad              9   \n",
              "3   53            Private  234721        11th              7   \n",
              "4   28            Private  338409   Bachelors             13   \n",
              "\n",
              "        Marital-Status          Occupation    Relationship    Race      Sex  \\\n",
              "0        Never-married        Adm-clerical   Not-in-family   White     Male   \n",
              "1   Married-civ-spouse     Exec-managerial         Husband   White     Male   \n",
              "2             Divorced   Handlers-cleaners   Not-in-family   White     Male   \n",
              "3   Married-civ-spouse   Handlers-cleaners         Husband   Black     Male   \n",
              "4   Married-civ-spouse      Prof-specialty            Wife   Black   Female   \n",
              "\n",
              "   Capital-gain  Capital-loss  Hours-per-week  native-country Earning  \n",
              "0          2174             0              40   United-States   <=50K  \n",
              "1             0             0              13   United-States   <=50K  \n",
              "2             0             0              40   United-States   <=50K  \n",
              "3             0             0              40   United-States   <=50K  \n",
              "4             0             0              40            Cuba   <=50K  "
            ],
            "text/html": [
              "\n",
              "  <div id=\"df-c1abc237-ed0f-4058-9c2f-5f6ac58a89ab\">\n",
              "    <div class=\"colab-df-container\">\n",
              "      <div>\n",
              "<style scoped>\n",
              "    .dataframe tbody tr th:only-of-type {\n",
              "        vertical-align: middle;\n",
              "    }\n",
              "\n",
              "    .dataframe tbody tr th {\n",
              "        vertical-align: top;\n",
              "    }\n",
              "\n",
              "    .dataframe thead th {\n",
              "        text-align: right;\n",
              "    }\n",
              "</style>\n",
              "<table border=\"1\" class=\"dataframe\">\n",
              "  <thead>\n",
              "    <tr style=\"text-align: right;\">\n",
              "      <th></th>\n",
              "      <th>Age</th>\n",
              "      <th>Workclass</th>\n",
              "      <th>fnlwgt</th>\n",
              "      <th>Education</th>\n",
              "      <th>Education-num</th>\n",
              "      <th>Marital-Status</th>\n",
              "      <th>Occupation</th>\n",
              "      <th>Relationship</th>\n",
              "      <th>Race</th>\n",
              "      <th>Sex</th>\n",
              "      <th>Capital-gain</th>\n",
              "      <th>Capital-loss</th>\n",
              "      <th>Hours-per-week</th>\n",
              "      <th>native-country</th>\n",
              "      <th>Earning</th>\n",
              "    </tr>\n",
              "  </thead>\n",
              "  <tbody>\n",
              "    <tr>\n",
              "      <th>0</th>\n",
              "      <td>39</td>\n",
              "      <td>State-gov</td>\n",
              "      <td>77516</td>\n",
              "      <td>Bachelors</td>\n",
              "      <td>13</td>\n",
              "      <td>Never-married</td>\n",
              "      <td>Adm-clerical</td>\n",
              "      <td>Not-in-family</td>\n",
              "      <td>White</td>\n",
              "      <td>Male</td>\n",
              "      <td>2174</td>\n",
              "      <td>0</td>\n",
              "      <td>40</td>\n",
              "      <td>United-States</td>\n",
              "      <td>&lt;=50K</td>\n",
              "    </tr>\n",
              "    <tr>\n",
              "      <th>1</th>\n",
              "      <td>50</td>\n",
              "      <td>Self-emp-not-inc</td>\n",
              "      <td>83311</td>\n",
              "      <td>Bachelors</td>\n",
              "      <td>13</td>\n",
              "      <td>Married-civ-spouse</td>\n",
              "      <td>Exec-managerial</td>\n",
              "      <td>Husband</td>\n",
              "      <td>White</td>\n",
              "      <td>Male</td>\n",
              "      <td>0</td>\n",
              "      <td>0</td>\n",
              "      <td>13</td>\n",
              "      <td>United-States</td>\n",
              "      <td>&lt;=50K</td>\n",
              "    </tr>\n",
              "    <tr>\n",
              "      <th>2</th>\n",
              "      <td>38</td>\n",
              "      <td>Private</td>\n",
              "      <td>215646</td>\n",
              "      <td>HS-grad</td>\n",
              "      <td>9</td>\n",
              "      <td>Divorced</td>\n",
              "      <td>Handlers-cleaners</td>\n",
              "      <td>Not-in-family</td>\n",
              "      <td>White</td>\n",
              "      <td>Male</td>\n",
              "      <td>0</td>\n",
              "      <td>0</td>\n",
              "      <td>40</td>\n",
              "      <td>United-States</td>\n",
              "      <td>&lt;=50K</td>\n",
              "    </tr>\n",
              "    <tr>\n",
              "      <th>3</th>\n",
              "      <td>53</td>\n",
              "      <td>Private</td>\n",
              "      <td>234721</td>\n",
              "      <td>11th</td>\n",
              "      <td>7</td>\n",
              "      <td>Married-civ-spouse</td>\n",
              "      <td>Handlers-cleaners</td>\n",
              "      <td>Husband</td>\n",
              "      <td>Black</td>\n",
              "      <td>Male</td>\n",
              "      <td>0</td>\n",
              "      <td>0</td>\n",
              "      <td>40</td>\n",
              "      <td>United-States</td>\n",
              "      <td>&lt;=50K</td>\n",
              "    </tr>\n",
              "    <tr>\n",
              "      <th>4</th>\n",
              "      <td>28</td>\n",
              "      <td>Private</td>\n",
              "      <td>338409</td>\n",
              "      <td>Bachelors</td>\n",
              "      <td>13</td>\n",
              "      <td>Married-civ-spouse</td>\n",
              "      <td>Prof-specialty</td>\n",
              "      <td>Wife</td>\n",
              "      <td>Black</td>\n",
              "      <td>Female</td>\n",
              "      <td>0</td>\n",
              "      <td>0</td>\n",
              "      <td>40</td>\n",
              "      <td>Cuba</td>\n",
              "      <td>&lt;=50K</td>\n",
              "    </tr>\n",
              "  </tbody>\n",
              "</table>\n",
              "</div>\n",
              "      <button class=\"colab-df-convert\" onclick=\"convertToInteractive('df-c1abc237-ed0f-4058-9c2f-5f6ac58a89ab')\"\n",
              "              title=\"Convert this dataframe to an interactive table.\"\n",
              "              style=\"display:none;\">\n",
              "        \n",
              "  <svg xmlns=\"http://www.w3.org/2000/svg\" height=\"24px\"viewBox=\"0 0 24 24\"\n",
              "       width=\"24px\">\n",
              "    <path d=\"M0 0h24v24H0V0z\" fill=\"none\"/>\n",
              "    <path d=\"M18.56 5.44l.94 2.06.94-2.06 2.06-.94-2.06-.94-.94-2.06-.94 2.06-2.06.94zm-11 1L8.5 8.5l.94-2.06 2.06-.94-2.06-.94L8.5 2.5l-.94 2.06-2.06.94zm10 10l.94 2.06.94-2.06 2.06-.94-2.06-.94-.94-2.06-.94 2.06-2.06.94z\"/><path d=\"M17.41 7.96l-1.37-1.37c-.4-.4-.92-.59-1.43-.59-.52 0-1.04.2-1.43.59L10.3 9.45l-7.72 7.72c-.78.78-.78 2.05 0 2.83L4 21.41c.39.39.9.59 1.41.59.51 0 1.02-.2 1.41-.59l7.78-7.78 2.81-2.81c.8-.78.8-2.07 0-2.86zM5.41 20L4 18.59l7.72-7.72 1.47 1.35L5.41 20z\"/>\n",
              "  </svg>\n",
              "      </button>\n",
              "      \n",
              "  <style>\n",
              "    .colab-df-container {\n",
              "      display:flex;\n",
              "      flex-wrap:wrap;\n",
              "      gap: 12px;\n",
              "    }\n",
              "\n",
              "    .colab-df-convert {\n",
              "      background-color: #E8F0FE;\n",
              "      border: none;\n",
              "      border-radius: 50%;\n",
              "      cursor: pointer;\n",
              "      display: none;\n",
              "      fill: #1967D2;\n",
              "      height: 32px;\n",
              "      padding: 0 0 0 0;\n",
              "      width: 32px;\n",
              "    }\n",
              "\n",
              "    .colab-df-convert:hover {\n",
              "      background-color: #E2EBFA;\n",
              "      box-shadow: 0px 1px 2px rgba(60, 64, 67, 0.3), 0px 1px 3px 1px rgba(60, 64, 67, 0.15);\n",
              "      fill: #174EA6;\n",
              "    }\n",
              "\n",
              "    [theme=dark] .colab-df-convert {\n",
              "      background-color: #3B4455;\n",
              "      fill: #D2E3FC;\n",
              "    }\n",
              "\n",
              "    [theme=dark] .colab-df-convert:hover {\n",
              "      background-color: #434B5C;\n",
              "      box-shadow: 0px 1px 3px 1px rgba(0, 0, 0, 0.15);\n",
              "      filter: drop-shadow(0px 1px 2px rgba(0, 0, 0, 0.3));\n",
              "      fill: #FFFFFF;\n",
              "    }\n",
              "  </style>\n",
              "\n",
              "      <script>\n",
              "        const buttonEl =\n",
              "          document.querySelector('#df-c1abc237-ed0f-4058-9c2f-5f6ac58a89ab button.colab-df-convert');\n",
              "        buttonEl.style.display =\n",
              "          google.colab.kernel.accessAllowed ? 'block' : 'none';\n",
              "\n",
              "        async function convertToInteractive(key) {\n",
              "          const element = document.querySelector('#df-c1abc237-ed0f-4058-9c2f-5f6ac58a89ab');\n",
              "          const dataTable =\n",
              "            await google.colab.kernel.invokeFunction('convertToInteractive',\n",
              "                                                     [key], {});\n",
              "          if (!dataTable) return;\n",
              "\n",
              "          const docLinkHtml = 'Like what you see? Visit the ' +\n",
              "            '<a target=\"_blank\" href=https://colab.research.google.com/notebooks/data_table.ipynb>data table notebook</a>'\n",
              "            + ' to learn more about interactive tables.';\n",
              "          element.innerHTML = '';\n",
              "          dataTable['output_type'] = 'display_data';\n",
              "          await google.colab.output.renderOutput(dataTable, element);\n",
              "          const docLink = document.createElement('div');\n",
              "          docLink.innerHTML = docLinkHtml;\n",
              "          element.appendChild(docLink);\n",
              "        }\n",
              "      </script>\n",
              "    </div>\n",
              "  </div>\n",
              "  "
            ]
          },
          "metadata": {},
          "execution_count": 91
        }
      ],
      "source": [
        "df.head()"
      ]
    },
    {
      "cell_type": "code",
      "execution_count": null,
      "metadata": {
        "colab": {
          "base_uri": "https://localhost:8080/"
        },
        "id": "IpI9Cow4QZYT",
        "outputId": "863ebb9f-db6a-4e49-f109-692d5c058712"
      },
      "outputs": [
        {
          "output_type": "stream",
          "name": "stdout",
          "text": [
            "    Age Workclass  fnlwgt      Education  Education-num       Marital-Status  \\\n",
            "27   54         ?  180211   Some-college             10   Married-civ-spouse   \n",
            "\n",
            "   Occupation Relationship                 Race    Sex  Capital-gain  \\\n",
            "27          ?      Husband   Asian-Pac-Islander   Male             0   \n",
            "\n",
            "    Capital-loss  Hours-per-week native-country Earning  \n",
            "27             0              60          South    >50K  \n"
          ]
        }
      ],
      "source": [
        "print(df.iloc[[27]])"
      ]
    },
    {
      "cell_type": "code",
      "execution_count": null,
      "metadata": {
        "id": "jOMlD6UbNCB9"
      },
      "outputs": [],
      "source": [
        "# plot_nativecountry=round(pd.crosstab(df['native-country'],df.Earning).div(pd.crosstab(df['native-country'], df.Earning).apply(sum,1),axis=0),2)\n",
        "# plot_nativecountry.sort_values(by = '>50K',inplace=True)\n",
        "# ax=plot_nativecountry.plot(kind='bar',title='Distribution of income across Native Country',figsize=(10,8))"
      ]
    },
    {
      "cell_type": "code",
      "execution_count": null,
      "metadata": {
        "colab": {
          "base_uri": "https://localhost:8080/"
        },
        "id": "HsHT3g4_QlZX",
        "outputId": "f53524ca-f97c-48b0-8d59-4c3b3eecbdf0"
      },
      "outputs": [
        {
          "output_type": "stream",
          "name": "stdout",
          "text": [
            " Private             22696\n",
            " Self-emp-not-inc     2541\n",
            " Local-gov            2093\n",
            " ?                    1836\n",
            " State-gov            1298\n",
            " Self-emp-inc         1116\n",
            " Federal-gov           960\n",
            " Without-pay            14\n",
            " Never-worked            7\n",
            "Name: Workclass, dtype: int64\n",
            " Prof-specialty       4140\n",
            " Craft-repair         4099\n",
            " Exec-managerial      4066\n",
            " Adm-clerical         3770\n",
            " Sales                3650\n",
            " Other-service        3295\n",
            " Machine-op-inspct    2002\n",
            " ?                    1843\n",
            " Transport-moving     1597\n",
            " Handlers-cleaners    1370\n",
            " Farming-fishing       994\n",
            " Tech-support          928\n",
            " Protective-serv       649\n",
            " Priv-house-serv       149\n",
            " Armed-Forces            9\n",
            "Name: Occupation, dtype: int64\n",
            " United-States                 29170\n",
            " Mexico                          643\n",
            " ?                               583\n",
            " Philippines                     198\n",
            " Germany                         137\n",
            " Canada                          121\n",
            " Puerto-Rico                     114\n",
            " El-Salvador                     106\n",
            " India                           100\n",
            " Cuba                             95\n",
            " England                          90\n",
            " Jamaica                          81\n",
            " South                            80\n",
            " China                            75\n",
            " Italy                            73\n",
            " Dominican-Republic               70\n",
            " Vietnam                          67\n",
            " Guatemala                        64\n",
            " Japan                            62\n",
            " Poland                           60\n",
            " Columbia                         59\n",
            " Taiwan                           51\n",
            " Haiti                            44\n",
            " Iran                             43\n",
            " Portugal                         37\n",
            " Nicaragua                        34\n",
            " Peru                             31\n",
            " France                           29\n",
            " Greece                           29\n",
            " Ecuador                          28\n",
            " Ireland                          24\n",
            " Hong                             20\n",
            " Cambodia                         19\n",
            " Trinadad&Tobago                  19\n",
            " Laos                             18\n",
            " Thailand                         18\n",
            " Yugoslavia                       16\n",
            " Outlying-US(Guam-USVI-etc)       14\n",
            " Honduras                         13\n",
            " Hungary                          13\n",
            " Scotland                         12\n",
            " Holand-Netherlands                1\n",
            "Name: native-country, dtype: int64\n"
          ]
        }
      ],
      "source": [
        "print(df['Workclass'].value_counts())\n",
        "print(df['Occupation'].value_counts())\n",
        "print(df['native-country'].value_counts())"
      ]
    },
    {
      "cell_type": "code",
      "execution_count": null,
      "metadata": {
        "colab": {
          "base_uri": "https://localhost:8080/"
        },
        "id": "GkzYpD-1maOq",
        "outputId": "fd8fbe3f-7ac9-4a16-a1e3-f388c9a6956f"
      },
      "outputs": [
        {
          "output_type": "stream",
          "name": "stdout",
          "text": [
            "['Age', 'Workclass', 'fnlwgt', 'Education', 'Education-num', 'Marital-Status', 'Occupation', 'Relationship', 'Race', 'Sex', 'Capital-gain', 'Capital-loss', 'Hours-per-week', 'native-country', 'Earning']\n"
          ]
        }
      ],
      "source": [
        "print(list(df.columns))"
      ]
    },
    {
      "cell_type": "code",
      "execution_count": null,
      "metadata": {
        "colab": {
          "base_uri": "https://localhost:8080/"
        },
        "id": "CnVHwLiPemzh",
        "outputId": "3bbf65ed-5fa8-4386-ab96-27fcc71f1109"
      },
      "outputs": [
        {
          "output_type": "stream",
          "name": "stdout",
          "text": [
            "Workclass\n",
            "Occupation\n",
            "native-country\n"
          ]
        }
      ],
      "source": [
        "#Removing leading and trailing whitespaces from features. Also finding columns containing missing values\n",
        "for col in df.columns:\n",
        "  if(df.dtypes[col]=='object'):\n",
        "    arr = [ str(x).strip() for x in df[col].unique() ]\n",
        "    arr1=[str(x).strip() for x in df[col]]\n",
        "    df[col] = arr1\n",
        "    if('?' in arr):\n",
        "      print(col)\n",
        "    #df[col].str.strip()\n",
        "\n",
        "#print(df['Workclass'].unique())\n",
        "\n",
        "#df['Earning'].value_counts()\n",
        "# arr = [ x.strip() for x in df['native-country'].unique()]\n",
        "# print(arr)\n",
        "#print(type((df['native-country'].unique())[0]))"
      ]
    },
    {
      "cell_type": "code",
      "execution_count": null,
      "metadata": {
        "colab": {
          "base_uri": "https://localhost:8080/",
          "height": 646
        },
        "id": "mz2EPD76Nx2q",
        "outputId": "9da7b679-9269-4363-9650-c71524edf828"
      },
      "outputs": [
        {
          "output_type": "display_data",
          "data": {
            "text/plain": [
              "<Figure size 720x576 with 1 Axes>"
            ],
            "image/png": "[encoded data removed]"
          },
          "metadata": {
            "needs_background": "light"
          }
        }
      ],
      "source": [
        "plot_nativecountry=round(pd.crosstab(df['native-country'],df.Earning).div(pd.crosstab(df['native-country'], df.Earning).apply(sum,1),axis=0),2)\n",
        "plot_nativecountry.sort_values(by = '>50K',inplace=True)\n",
        "ax=plot_nativecountry.plot(kind='bar',title='Distribution of income across Native Country',figsize=(10,8))"
      ]
    },
    {
      "cell_type": "code",
      "execution_count": null,
      "metadata": {
        "colab": {
          "base_uri": "https://localhost:8080/"
        },
        "id": "Ef6U_ZAae8O7",
        "outputId": "c890f9be-d87e-4688-ad95-a2eaf4152202"
      },
      "outputs": [
        {
          "output_type": "stream",
          "name": "stdout",
          "text": [
            "1836\n",
            "1843\n",
            "583\n"
          ]
        }
      ],
      "source": [
        "#No of missing values in each of the 3 categorical columns\n",
        "#print(df['Workclass'].value_counts())\n",
        "print(df['Workclass'].value_counts()['?'])\n",
        "print(df['Occupation'].value_counts()['?'])\n",
        "print(df['native-country'].value_counts()['?'])"
      ]
    },
    {
      "cell_type": "code",
      "execution_count": null,
      "metadata": {
        "id": "HkDeKxmThxD5"
      },
      "outputs": [],
      "source": [
        "dfCopy = df.copy(deep=True)"
      ]
    },
    {
      "cell_type": "code",
      "execution_count": null,
      "metadata": {
        "id": "vHkdDCVEgZUw"
      },
      "outputs": [],
      "source": [
        "#Replace '?' with NaN\n",
        "dfCopy.replace('?', np.NaN,inplace=True)"
      ]
    },
    {
      "cell_type": "code",
      "execution_count": null,
      "metadata": {
        "colab": {
          "base_uri": "https://localhost:8080/"
        },
        "id": "xdMFQDrUlH83",
        "outputId": "ec965e1b-e081-43a0-d8fe-0ca86ac5cd75"
      },
      "outputs": [
        {
          "output_type": "stream",
          "name": "stdout",
          "text": [
            "<class 'pandas.core.frame.DataFrame'>\n",
            "RangeIndex: 32561 entries, 0 to 32560\n",
            "Data columns (total 15 columns):\n",
            " #   Column          Non-Null Count  Dtype \n",
            "---  ------          --------------  ----- \n",
            " 0   Age             32561 non-null  int64 \n",
            " 1   Workclass       30725 non-null  object\n",
            " 2   fnlwgt          32561 non-null  int64 \n",
            " 3   Education       32561 non-null  object\n",
            " 4   Education-num   32561 non-null  int64 \n",
            " 5   Marital-Status  32561 non-null  object\n",
            " 6   Occupation      30718 non-null  object\n",
            " 7   Relationship    32561 non-null  object\n",
            " 8   Race            32561 non-null  object\n",
            " 9   Sex             32561 non-null  object\n",
            " 10  Capital-gain    32561 non-null  int64 \n",
            " 11  Capital-loss    32561 non-null  int64 \n",
            " 12  Hours-per-week  32561 non-null  int64 \n",
            " 13  native-country  31978 non-null  object\n",
            " 14  Earning         32561 non-null  object\n",
            "dtypes: int64(6), object(9)\n",
            "memory usage: 3.7+ MB\n"
          ]
        }
      ],
      "source": [
        "dfCopy.info()"
      ]
    },
    {
      "cell_type": "code",
      "source": [
        "#dfCopy['Workclass'].values_count()"
      ],
      "metadata": {
        "id": "vTJXLI0Orwi1"
      },
      "execution_count": null,
      "outputs": []
    },
    {
      "cell_type": "code",
      "execution_count": null,
      "metadata": {
        "colab": {
          "base_uri": "https://localhost:8080/"
        },
        "id": "E-4pyAMcgl2Q",
        "outputId": "3b2142bb-57d3-4374-f0eb-7fe385b065c5"
      },
      "outputs": [
        {
          "output_type": "stream",
          "name": "stdout",
          "text": [
            "1836\n",
            "1843\n",
            "583\n"
          ]
        }
      ],
      "source": [
        "print(dfCopy['Workclass'].isna().sum())\n",
        "print(dfCopy['Occupation'].isna().sum())\n",
        "print(dfCopy['native-country'].isna().sum())"
      ]
    },
    {
      "cell_type": "code",
      "execution_count": null,
      "metadata": {
        "id": "FyBN2HJZkgrS"
      },
      "outputs": [],
      "source": [
        "dfMode = dfCopy.copy(deep=True)"
      ]
    },
    {
      "cell_type": "code",
      "execution_count": null,
      "metadata": {
        "colab": {
          "base_uri": "https://localhost:8080/"
        },
        "id": "BfUHLKtymFNt",
        "outputId": "42afeda7-ff6f-4fc4-9c02-2c43cf420a35"
      },
      "outputs": [
        {
          "output_type": "stream",
          "name": "stdout",
          "text": [
            "<class 'pandas.core.frame.DataFrame'>\n",
            "RangeIndex: 32561 entries, 0 to 32560\n",
            "Data columns (total 15 columns):\n",
            " #   Column          Non-Null Count  Dtype \n",
            "---  ------          --------------  ----- \n",
            " 0   Age             32561 non-null  int64 \n",
            " 1   Workclass       30725 non-null  object\n",
            " 2   fnlwgt          32561 non-null  int64 \n",
            " 3   Education       32561 non-null  object\n",
            " 4   Education-num   32561 non-null  int64 \n",
            " 5   Marital-Status  32561 non-null  object\n",
            " 6   Occupation      30718 non-null  object\n",
            " 7   Relationship    32561 non-null  object\n",
            " 8   Race            32561 non-null  object\n",
            " 9   Sex             32561 non-null  object\n",
            " 10  Capital-gain    32561 non-null  int64 \n",
            " 11  Capital-loss    32561 non-null  int64 \n",
            " 12  Hours-per-week  32561 non-null  int64 \n",
            " 13  native-country  31978 non-null  object\n",
            " 14  Earning         32561 non-null  object\n",
            "dtypes: int64(6), object(9)\n",
            "memory usage: 3.7+ MB\n"
          ]
        }
      ],
      "source": [
        "dfMode.info()"
      ]
    },
    {
      "cell_type": "code",
      "execution_count": null,
      "metadata": {
        "id": "VJ9TOSwTyOs6"
      },
      "outputs": [],
      "source": []
    },
    {
      "cell_type": "code",
      "execution_count": null,
      "metadata": {
        "id": "niqtJzdvZAPI"
      },
      "outputs": [],
      "source": [
        "# dftest = pd.DataFrame([[\"a\", \"x\",3],\n",
        "#                    [np.nan, \"y\",4],\n",
        "#                     [\"a\", np.nan,5],\n",
        "#                     [\"b\", \"y\",6]], dtype=\"category\")\n",
        "\n",
        "# imp = SimpleImputer(strategy=\"most_frequent\")\n",
        "# dftest = pd.DataFrame(imp.fit_transform(dftest))\n",
        "# #print(imp.fit_transform(dftest))\n",
        "# dftest.head()\n",
        "# dftest.info()"
      ]
    },
    {
      "cell_type": "code",
      "execution_count": null,
      "metadata": {
        "id": "KSOlFK1-kSdO"
      },
      "outputs": [],
      "source": [
        "# columns_numeric = ['Age', 'fnlwgt', 'Education-num', 'Capital-gain', 'Capital-loss', 'Hours-per-week']\n",
        "# columns_categorical = ['Workclass', 'Education', 'Marital-Status', 'Occupation', 'Relationship', 'Race', 'Sex', 'native-country']"
      ]
    },
    {
      "cell_type": "code",
      "execution_count": null,
      "metadata": {
        "colab": {
          "base_uri": "https://localhost:8080/"
        },
        "id": "XfKXbDo9kpNq",
        "outputId": "6cdfc37d-68a4-41ff-d3e9-5ea21507650a"
      },
      "outputs": [
        {
          "output_type": "stream",
          "name": "stdout",
          "text": [
            "<class 'pandas.core.frame.DataFrame'>\n",
            "RangeIndex: 32561 entries, 0 to 32560\n",
            "Data columns (total 15 columns):\n",
            " #   Column          Non-Null Count  Dtype \n",
            "---  ------          --------------  ----- \n",
            " 0   Age             32561 non-null  int64 \n",
            " 1   Workclass       32561 non-null  object\n",
            " 2   fnlwgt          32561 non-null  int64 \n",
            " 3   Education       32561 non-null  object\n",
            " 4   Education-num   32561 non-null  int64 \n",
            " 5   Marital-Status  32561 non-null  object\n",
            " 6   Occupation      32561 non-null  object\n",
            " 7   Relationship    32561 non-null  object\n",
            " 8   Race            32561 non-null  object\n",
            " 9   Sex             32561 non-null  object\n",
            " 10  Capital-gain    32561 non-null  int64 \n",
            " 11  Capital-loss    32561 non-null  int64 \n",
            " 12  Hours-per-week  32561 non-null  int64 \n",
            " 13  native-country  32561 non-null  object\n",
            " 14  Earning         32561 non-null  object\n",
            "dtypes: int64(6), object(9)\n",
            "memory usage: 3.7+ MB\n"
          ]
        }
      ],
      "source": [
        "#Imputing each missing value with the most common label\n",
        "#categcolumns = ['Workclass','Occupation','native-country']\n",
        "from sklearn.impute import SimpleImputer\n",
        "imp = SimpleImputer(strategy=\"most_frequent\")\n",
        "dfMode = pd.DataFrame(imp.fit_transform(dfMode), columns=list(df.columns)).astype(df.dtypes.to_dict())\n",
        "dfMode.info()"
      ]
    },
    {
      "cell_type": "code",
      "execution_count": null,
      "metadata": {
        "colab": {
          "base_uri": "https://localhost:8080/"
        },
        "id": "krl6BgxuQ59A",
        "outputId": "a5973068-d2cc-41b2-e8bc-7eb6dd9d5174"
      },
      "outputs": [
        {
          "output_type": "stream",
          "name": "stdout",
          "text": [
            "    Age Workclass  fnlwgt     Education  Education-num      Marital-Status  \\\n",
            "27   54   Private  180211  Some-college             10  Married-civ-spouse   \n",
            "\n",
            "        Occupation Relationship                Race   Sex  Capital-gain  \\\n",
            "27  Prof-specialty      Husband  Asian-Pac-Islander  Male             0   \n",
            "\n",
            "    Capital-loss  Hours-per-week native-country Earning  \n",
            "27             0              60          South    >50K  \n"
          ]
        }
      ],
      "source": [
        "print(dfMode.iloc[[27]])"
      ]
    },
    {
      "cell_type": "code",
      "execution_count": null,
      "metadata": {
        "colab": {
          "base_uri": "https://localhost:8080/"
        },
        "id": "tTedzhSFs_wz",
        "outputId": "6364450c-ca71-4acc-e23c-1633d876c426"
      },
      "outputs": [
        {
          "output_type": "execute_result",
          "data": {
            "text/plain": [
              "<=50K    24720\n",
              ">50K      7841\n",
              "Name: Earning, dtype: int64"
            ]
          },
          "metadata": {},
          "execution_count": 110
        }
      ],
      "source": [
        "dfMode[\"Earning\"].value_counts()"
      ]
    },
    {
      "cell_type": "code",
      "execution_count": null,
      "metadata": {
        "id": "KFLJ4zw0slex"
      },
      "outputs": [],
      "source": [
        "training_label=dfMode[\"Earning\"].map({'<=50K':0,'>50K':1})  #just to give binary labels\n",
        "dfMode.drop([\"Earning\"],axis=1,inplace=True)"
      ]
    },
    {
      "cell_type": "code",
      "execution_count": null,
      "metadata": {
        "id": "FZ_1bTK6zKxQ"
      },
      "outputs": [],
      "source": [
        "# from imblearn.over_sampling import SMOTE\n",
        "# from collections import Counter\n",
        "# sm = SMOTE(random_state=42)\n",
        "# dfMode, training_label = sm.fit_resample(dfMode, training_label)\n",
        "# dfMode.info()\n",
        "# print('Resampled dataset shape %s' % Counter(training_label))"
      ]
    },
    {
      "cell_type": "code",
      "execution_count": null,
      "metadata": {
        "id": "M9gddTeSKoYd",
        "colab": {
          "base_uri": "https://localhost:8080/"
        },
        "outputId": "d98df9bc-ec54-4708-bc85-9beff0edf484"
      },
      "outputs": [
        {
          "output_type": "execute_result",
          "data": {
            "text/plain": [
              "0        0\n",
              "1        0\n",
              "2        0\n",
              "3        0\n",
              "4        0\n",
              "        ..\n",
              "32556    0\n",
              "32557    1\n",
              "32558    0\n",
              "32559    0\n",
              "32560    1\n",
              "Name: Earning, Length: 32561, dtype: int64"
            ]
          },
          "metadata": {},
          "execution_count": 113
        }
      ],
      "source": [
        "training_label"
      ]
    },
    {
      "cell_type": "code",
      "execution_count": null,
      "metadata": {
        "id": "1OLvgDG-XDr6"
      },
      "outputs": [],
      "source": [
        "columns_numeric = ['Age', 'fnlwgt', 'Education-num', 'Capital-gain', 'Capital-loss', 'Hours-per-week']\n",
        "# columns_categorical = ['Workclass', 'Education', 'Marital-Status', 'Occupation', 'Relationship', 'Race', 'Sex', 'native-country']"
      ]
    },
    {
      "cell_type": "code",
      "execution_count": null,
      "metadata": {
        "id": "NPSTDnkVaBwY"
      },
      "outputs": [],
      "source": [
        "# from sklearn.preprocessing import StandardScaler  \n",
        "# scaler = StandardScaler()\n",
        "# X_numeric_std = pd.DataFrame(data=scaler.fit_transform(dfMode[columns_numeric]), columns=columns_numeric)\n",
        "# dfMode = pd.merge(X_numeric_std, dfMode[columns_categorical], left_index=True, right_index=True)"
      ]
    },
    {
      "cell_type": "code",
      "execution_count": null,
      "metadata": {
        "id": "69Drw1-adILx"
      },
      "outputs": [],
      "source": [
        "# dfMode.info()"
      ]
    },
    {
      "cell_type": "code",
      "execution_count": null,
      "metadata": {
        "id": "z77bYIjkjtT_"
      },
      "outputs": [],
      "source": [
        "# dfMode['Age'].value_counts()"
      ]
    },
    {
      "cell_type": "code",
      "execution_count": null,
      "metadata": {
        "id": "ZRtk3Hz4cxDS"
      },
      "outputs": [],
      "source": [
        "# pd.get_dummies(dfMode.select_dtypes('object'))"
      ]
    },
    {
      "cell_type": "code",
      "execution_count": null,
      "metadata": {
        "id": "EhNvDPujNWtE",
        "colab": {
          "base_uri": "https://localhost:8080/"
        },
        "outputId": "13f51d4a-2639-41a5-8878-d4197531dca4"
      },
      "outputs": [
        {
          "output_type": "stream",
          "name": "stdout",
          "text": [
            "<class 'pandas.core.frame.DataFrame'>\n",
            "RangeIndex: 32561 entries, 0 to 32560\n",
            "Data columns (total 6 columns):\n",
            " #   Column          Non-Null Count  Dtype  \n",
            "---  ------          --------------  -----  \n",
            " 0   Age             32561 non-null  float64\n",
            " 1   fnlwgt          32561 non-null  float64\n",
            " 2   Education-num   32561 non-null  float64\n",
            " 3   Capital-gain    32561 non-null  float64\n",
            " 4   Capital-loss    32561 non-null  float64\n",
            " 5   Hours-per-week  32561 non-null  float64\n",
            "dtypes: float64(6)\n",
            "memory usage: 1.5 MB\n"
          ]
        }
      ],
      "source": [
        "#Data normalization on numerical columns\n",
        "\n",
        "from sklearn.preprocessing import StandardScaler  \n",
        "scaler = StandardScaler()  \n",
        "scaler.fit(dfMode.select_dtypes(\"int64\"))  \n",
        "train_data = scaler.transform(dfMode.select_dtypes(\"int64\"))  \n",
        "dfModeNum=pd.DataFrame(train_data,columns=columns_numeric)\n",
        "dfModeNum.info()"
      ]
    },
    {
      "cell_type": "code",
      "execution_count": null,
      "metadata": {
        "id": "D618wILDmGLj"
      },
      "outputs": [],
      "source": [
        "dfModeNum.set_index(dfModeNum.index,inplace=True)"
      ]
    },
    {
      "cell_type": "code",
      "execution_count": null,
      "metadata": {
        "id": "ZuJEnoI8n4Xe",
        "colab": {
          "base_uri": "https://localhost:8080/"
        },
        "outputId": "7a3ef611-b234-4d75-e8d2-d232cfd77743"
      },
      "outputs": [
        {
          "output_type": "stream",
          "name": "stdout",
          "text": [
            "<class 'pandas.core.frame.DataFrame'>\n",
            "RangeIndex: 32561 entries, 0 to 32560\n",
            "Data columns (total 6 columns):\n",
            " #   Column          Non-Null Count  Dtype  \n",
            "---  ------          --------------  -----  \n",
            " 0   Age             32561 non-null  float64\n",
            " 1   fnlwgt          32561 non-null  float64\n",
            " 2   Education-num   32561 non-null  float64\n",
            " 3   Capital-gain    32561 non-null  float64\n",
            " 4   Capital-loss    32561 non-null  float64\n",
            " 5   Hours-per-week  32561 non-null  float64\n",
            "dtypes: float64(6)\n",
            "memory usage: 1.5 MB\n"
          ]
        }
      ],
      "source": [
        "dfModeNum.info()"
      ]
    },
    {
      "cell_type": "code",
      "execution_count": null,
      "metadata": {
        "id": "o4vnb8LMoiSp",
        "colab": {
          "base_uri": "https://localhost:8080/"
        },
        "outputId": "285c691d-6ebc-4514-c5f3-193418023479"
      },
      "outputs": [
        {
          "output_type": "stream",
          "name": "stdout",
          "text": [
            "<class 'pandas.core.frame.DataFrame'>\n",
            "RangeIndex: 32561 entries, 0 to 32560\n",
            "Data columns (total 14 columns):\n",
            " #   Column          Non-Null Count  Dtype \n",
            "---  ------          --------------  ----- \n",
            " 0   Age             32561 non-null  int64 \n",
            " 1   Workclass       32561 non-null  object\n",
            " 2   fnlwgt          32561 non-null  int64 \n",
            " 3   Education       32561 non-null  object\n",
            " 4   Education-num   32561 non-null  int64 \n",
            " 5   Marital-Status  32561 non-null  object\n",
            " 6   Occupation      32561 non-null  object\n",
            " 7   Relationship    32561 non-null  object\n",
            " 8   Race            32561 non-null  object\n",
            " 9   Sex             32561 non-null  object\n",
            " 10  Capital-gain    32561 non-null  int64 \n",
            " 11  Capital-loss    32561 non-null  int64 \n",
            " 12  Hours-per-week  32561 non-null  int64 \n",
            " 13  native-country  32561 non-null  object\n",
            "dtypes: int64(6), object(8)\n",
            "memory usage: 3.5+ MB\n"
          ]
        }
      ],
      "source": [
        "dfMode.info()"
      ]
    },
    {
      "cell_type": "code",
      "execution_count": null,
      "metadata": {
        "id": "9CpOkwK3pWyq",
        "colab": {
          "base_uri": "https://localhost:8080/"
        },
        "outputId": "c6cb068a-ed4e-4d75-ccdf-a226f716dfee"
      },
      "outputs": [
        {
          "output_type": "execute_result",
          "data": {
            "text/plain": [
              "United-States                 29753\n",
              "Mexico                          643\n",
              "Philippines                     198\n",
              "Germany                         137\n",
              "Canada                          121\n",
              "Puerto-Rico                     114\n",
              "El-Salvador                     106\n",
              "India                           100\n",
              "Cuba                             95\n",
              "England                          90\n",
              "Jamaica                          81\n",
              "South                            80\n",
              "China                            75\n",
              "Italy                            73\n",
              "Dominican-Republic               70\n",
              "Vietnam                          67\n",
              "Guatemala                        64\n",
              "Japan                            62\n",
              "Poland                           60\n",
              "Columbia                         59\n",
              "Taiwan                           51\n",
              "Haiti                            44\n",
              "Iran                             43\n",
              "Portugal                         37\n",
              "Nicaragua                        34\n",
              "Peru                             31\n",
              "France                           29\n",
              "Greece                           29\n",
              "Ecuador                          28\n",
              "Ireland                          24\n",
              "Hong                             20\n",
              "Cambodia                         19\n",
              "Trinadad&Tobago                  19\n",
              "Laos                             18\n",
              "Thailand                         18\n",
              "Yugoslavia                       16\n",
              "Outlying-US(Guam-USVI-etc)       14\n",
              "Honduras                         13\n",
              "Hungary                          13\n",
              "Scotland                         12\n",
              "Holand-Netherlands                1\n",
              "Name: native-country, dtype: int64"
            ]
          },
          "metadata": {},
          "execution_count": 123
        }
      ],
      "source": [
        "#dfMode['Workclass'].value_counts()\n",
        "dfMode['native-country'].value_counts()"
      ]
    },
    {
      "cell_type": "code",
      "execution_count": null,
      "metadata": {
        "id": "DYREpbIUmKrg"
      },
      "outputs": [],
      "source": [
        "dfMode_categorical = pd.get_dummies(dfMode.select_dtypes('object'))\n",
        "dfMode_categorical=dfMode_categorical.astype(dtype='category')\n",
        "training_data_non_categorical = dfModeNum                                           #training_data.select_dtypes(exclude = 'object')\n",
        "\n",
        "training_data_onehotencoded = pd.concat([training_data_non_categorical, dfMode_categorical], axis=1,join='inner')"
      ]
    },
    {
      "cell_type": "code",
      "execution_count": null,
      "metadata": {
        "id": "06v8pQBqnIyw",
        "colab": {
          "base_uri": "https://localhost:8080/"
        },
        "outputId": "f2807fc4-8650-42bd-97cc-e4939c11536e"
      },
      "outputs": [
        {
          "output_type": "stream",
          "name": "stdout",
          "text": [
            "99\n",
            "6\n",
            "<class 'pandas.core.frame.DataFrame'>\n",
            "RangeIndex: 32561 entries, 0 to 32560\n",
            "Columns: 105 entries, Age to native-country_Yugoslavia\n",
            "dtypes: category(99), float64(6)\n",
            "memory usage: 4.6 MB\n",
            "None\n"
          ]
        }
      ],
      "source": [
        "print(dfMode_categorical.columns.size)\n",
        "print(dfModeNum.columns.size)\n",
        "print(training_data_onehotencoded.info())"
      ]
    },
    {
      "cell_type": "code",
      "execution_count": null,
      "metadata": {
        "id": "3qtRTrtxoSq_"
      },
      "outputs": [],
      "source": []
    },
    {
      "cell_type": "code",
      "execution_count": null,
      "metadata": {
        "id": "b-3Dhu6GGdiU",
        "colab": {
          "base_uri": "https://localhost:8080/"
        },
        "outputId": "cbd223f9-4b32-4ae2-f6fb-0d8b5f29df3b"
      },
      "outputs": [
        {
          "output_type": "execute_result",
          "data": {
            "text/plain": [
              "<=50K    24720\n",
              ">50K      7841\n",
              "Name: Earning, dtype: int64"
            ]
          },
          "metadata": {},
          "execution_count": 126
        }
      ],
      "source": [
        "df['Earning'].value_counts()"
      ]
    },
    {
      "cell_type": "code",
      "execution_count": null,
      "metadata": {
        "id": "LBlZcyMKSH6s",
        "colab": {
          "base_uri": "https://localhost:8080/"
        },
        "outputId": "f0ff9a09-c72f-4fe4-e85c-e2bdf30e7194"
      },
      "outputs": [
        {
          "output_type": "stream",
          "name": "stdout",
          "text": [
            "73\n",
            "21648\n"
          ]
        }
      ],
      "source": [
        "print(df['Age'].unique().size)\n",
        "print(df['fnlwgt'].unique().size)"
      ]
    },
    {
      "cell_type": "code",
      "execution_count": null,
      "metadata": {
        "id": "KYXwDvR1OBu_",
        "colab": {
          "base_uri": "https://localhost:8080/"
        },
        "outputId": "8d599306-ff8b-4844-de92-765008d900b2"
      },
      "outputs": [
        {
          "output_type": "execute_result",
          "data": {
            "text/plain": [
              "0        False\n",
              "1        False\n",
              "2        False\n",
              "3        False\n",
              "4        False\n",
              "         ...  \n",
              "32556    False\n",
              "32557    False\n",
              "32558    False\n",
              "32559    False\n",
              "32560    False\n",
              "Name: Earning, Length: 32561, dtype: bool"
            ]
          },
          "metadata": {},
          "execution_count": 128
        }
      ],
      "source": [
        "training_label.isna()"
      ]
    },
    {
      "cell_type": "code",
      "execution_count": null,
      "metadata": {
        "id": "445Dth4c2Ou1",
        "colab": {
          "base_uri": "https://localhost:8080/"
        },
        "outputId": "489c0c9e-aec3-4d54-9ad1-b5aa96847943"
      },
      "outputs": [
        {
          "output_type": "stream",
          "name": "stdout",
          "text": [
            "[0, 0, 0, 0, 0, 0, 0, 0, 0, 0, 0, 0, 0, 0, 0, 0, 0, 0, 0, 0, 0, 0, 0, 0, 0, 0, 0, 0, 0, 0, 0, 0, 0, 0, 0, 0, 0, 0, 0, 0, 0, 0, 0, 0, 0, 0, 0, 0, 0, 0, 0, 0, 0, 0, 0, 0, 0, 0, 0, 0, 0, 0, 0, 0, 0, 0, 0, 0, 0, 0, 0, 0, 0, 0, 0, 0, 0, 0, 0, 0, 0, 0, 0, 0, 0, 0, 0, 0, 0, 0, 0, 0, 0, 0, 0, 0, 0, 0, 0, 0, 0, 0, 0, 0, 0]\n"
          ]
        }
      ],
      "source": [
        "nCount=[]\n",
        "for col in training_data_onehotencoded.columns:\n",
        "  nCount.append(training_data_onehotencoded[col].isna().sum())\n",
        "print(nCount)"
      ]
    },
    {
      "cell_type": "code",
      "execution_count": null,
      "metadata": {
        "id": "pwqhlhi53qwm"
      },
      "outputs": [],
      "source": [
        "onehotarr = training_data_onehotencoded.to_numpy()\n",
        "yarr = training_label.to_numpy()"
      ]
    },
    {
      "cell_type": "code",
      "execution_count": null,
      "metadata": {
        "id": "BmiBsVl9uI0U",
        "colab": {
          "base_uri": "https://localhost:8080/"
        },
        "outputId": "8c79ea6e-ae68-41b0-f04a-57d9640e7f7d"
      },
      "outputs": [
        {
          "output_type": "stream",
          "name": "stdout",
          "text": [
            "<class 'pandas.core.frame.DataFrame'>\n",
            "RangeIndex: 49440 entries, 0 to 49439\n",
            "Columns: 105 entries, Age to native-country_Yugoslavia\n",
            "dtypes: float64(105)\n",
            "memory usage: 39.6 MB\n",
            "0        0\n",
            "1        0\n",
            "2        0\n",
            "3        0\n",
            "4        0\n",
            "        ..\n",
            "49435    1\n",
            "49436    1\n",
            "49437    1\n",
            "49438    1\n",
            "49439    1\n",
            "Length: 49440, dtype: int64\n",
            "Resampled dataset shape Counter({0: 24720, 1: 24720})\n"
          ]
        }
      ],
      "source": [
        "#HERE\n",
        "from imblearn.over_sampling import SMOTE\n",
        "from collections import Counter\n",
        "sm = SMOTE(random_state=42)\n",
        "onehotarr, yarr = sm.fit_resample(onehotarr, yarr)\n",
        "training_data_onehotencoded = pd.DataFrame(onehotarr, columns=training_data_onehotencoded.columns)\n",
        "training_label = pd.Series(yarr)\n",
        "training_data_onehotencoded.info()\n",
        "#dfrocount = len(training_data_onehotencoded)\n",
        "print(training_label)\n",
        "print('Resampled dataset shape %s' % Counter(training_label))\n",
        "#print(\"No of rows: \", dfrocount)"
      ]
    },
    {
      "cell_type": "code",
      "source": [
        "dfrocount = len(training_data_onehotencoded)\n",
        "print(\"No of rows: \", dfrocount)"
      ],
      "metadata": {
        "colab": {
          "base_uri": "https://localhost:8080/"
        },
        "id": "5F0TDCB3m3Qb",
        "outputId": "ce72d89c-7b25-4369-eeba-3c3cf5bb15ed"
      },
      "execution_count": null,
      "outputs": [
        {
          "output_type": "stream",
          "name": "stdout",
          "text": [
            "No of rows:  49440\n"
          ]
        }
      ]
    },
    {
      "cell_type": "code",
      "execution_count": null,
      "metadata": {
        "id": "ujjHdcFO1eff",
        "colab": {
          "base_uri": "https://localhost:8080/"
        },
        "outputId": "2e446846-5c52-4eb8-8af9-9a014300826d"
      },
      "outputs": [
        {
          "output_type": "stream",
          "name": "stdout",
          "text": [
            "[0, 0, 0, 0, 0, 0, 0, 0, 0, 0, 0, 0, 0, 0, 0, 0, 0, 0, 0, 0, 0, 0, 0, 0, 0, 0, 0, 0, 0, 0, 0, 0, 0, 0, 0, 0, 0, 0, 0, 0, 0, 0, 0, 0, 0, 0, 0, 0, 0, 0, 0, 0, 0, 0, 0, 0, 0, 0, 0, 0, 0, 0, 0, 0, 0, 0, 0, 0, 0, 0, 0, 0, 0, 0, 0, 0, 0, 0, 0, 0, 0, 0, 0, 0, 0, 0, 0, 0, 0, 0, 0, 0, 0, 0, 0, 0, 0, 0, 0, 0, 0, 0, 0, 0, 0]\n"
          ]
        }
      ],
      "source": [
        "nCount=[]\n",
        "for col in training_data_onehotencoded.columns:\n",
        "  nCount.append(training_data_onehotencoded[col].isna().sum())\n",
        "print(nCount)"
      ]
    },
    {
      "cell_type": "code",
      "execution_count": null,
      "metadata": {
        "id": "1YcFYbL45WM2",
        "colab": {
          "base_uri": "https://localhost:8080/"
        },
        "outputId": "9298b924-a4dd-43c9-bb1a-8855b2b85fe9"
      },
      "outputs": [
        {
          "output_type": "execute_result",
          "data": {
            "text/plain": [
              "-0.189267    938\n",
              "-0.335892    926\n",
              "-0.555830    921\n",
              "-0.115955    919\n",
              "-0.262580    909\n",
              "            ... \n",
              " 1.816268      1\n",
              "-0.466662      1\n",
              " 0.020619      1\n",
              " 0.064683      1\n",
              " 0.057937      1\n",
              "Name: Age, Length: 15822, dtype: int64"
            ]
          },
          "metadata": {},
          "execution_count": 134
        }
      ],
      "source": [
        "training_data_onehotencoded['Age'].value_counts()"
      ]
    },
    {
      "cell_type": "code",
      "execution_count": null,
      "metadata": {
        "id": "zMBfh006NzQS"
      },
      "outputs": [],
      "source": [
        "#Feature selection: Select K best features\n",
        "\n",
        "from sklearn.feature_selection import SelectKBest,chi2\n",
        "np.seterr(divide='ignore',invalid='ignore')\n",
        "kbest_selector=SelectKBest(k=training_data_onehotencoded.shape[1])\n",
        "\n",
        "training_selected_features=kbest_selector.fit_transform(training_data_onehotencoded,training_label)\n",
        "\n",
        "selected_cols = kbest_selector.get_support(indices=True)\n",
        "selected_feature_names = training_data_onehotencoded.columns.values[selected_cols]\n",
        "\n",
        "training_selected_features=pd.DataFrame(training_selected_features)\n",
        "\n",
        "scores = kbest_selector.scores_[kbest_selector.get_support()]\n",
        "selected_feature_names_scores = list(zip(selected_feature_names, scores))\n",
        "\n",
        "Feat_F1score_combined = pd.DataFrame(data = selected_feature_names_scores, columns=['Feature_names', 'F_Scores'])\n",
        "Feat_F1score_combined = Feat_F1score_combined.sort_values(['F_Scores', 'Feature_names'], ascending = [False, True])"
      ]
    },
    {
      "cell_type": "code",
      "execution_count": null,
      "metadata": {
        "id": "qRkbOEY6N2G2",
        "colab": {
          "base_uri": "https://localhost:8080/",
          "height": 725
        },
        "outputId": "3831d4d2-459e-46c3-b6fa-01223a2785b4"
      },
      "outputs": [
        {
          "output_type": "display_data",
          "data": {
            "text/plain": [
              "<Figure size 1296x576 with 1 Axes>"
            ],
            "image/png": "[encoded data removed]"
          },
          "metadata": {
            "needs_background": "light"
          }
        }
      ],
      "source": [
        "Feat_F1score_combined.plot(x='Feature_names',y='F_Scores',kind='bar',title='Fscores of features arranged in accordance with their importance using SelectKBest method',figsize=(18,8))\n",
        "#Setting the F score threshold as 30, we get a total of 30 features which have F scores beyond this value\n",
        "\n",
        "kbest_selector=SelectKBest(k=30)\n",
        "training_selected_features=kbest_selector.fit_transform(training_data_onehotencoded,training_label)"
      ]
    },
    {
      "cell_type": "code",
      "execution_count": null,
      "metadata": {
        "id": "nOlrH9d7zFu0",
        "colab": {
          "base_uri": "https://localhost:8080/"
        },
        "outputId": "8fb2567d-0594-44f8-b030-23f277269db0"
      },
      "outputs": [
        {
          "output_type": "stream",
          "name": "stdout",
          "text": [
            "<class 'numpy.ndarray'>\n",
            "(49440, 30)\n"
          ]
        }
      ],
      "source": [
        "print(type(training_selected_features))\n",
        "print(training_selected_features.shape)"
      ]
    },
    {
      "cell_type": "code",
      "execution_count": null,
      "metadata": {
        "id": "-gSuvS2wN4t2",
        "colab": {
          "base_uri": "https://localhost:8080/"
        },
        "outputId": "835f4bf1-7452-4b00-e47f-78c2b211b23f"
      },
      "outputs": [
        {
          "output_type": "stream",
          "name": "stdout",
          "text": [
            "(49440, 30)\n",
            "(49440,)\n"
          ]
        }
      ],
      "source": [
        "#Converting the dataframes to numpy array format\n",
        "train_data_array=np.asarray(training_selected_features)\n",
        "training_label_array=np.asarray(training_label)\n",
        "print(train_data_array.shape)\n",
        "print(training_label.shape)"
      ]
    },
    {
      "cell_type": "code",
      "execution_count": null,
      "metadata": {
        "id": "rQqlgxw63bcG"
      },
      "outputs": [],
      "source": [
        "# Performing PCA\n",
        "# from sklearn.decomposition import PCA\n",
        "# pca = PCA()\n",
        "# pca.fit(training_selected_features)\n",
        "\n",
        "# training_features_transformed = pca.transform(training_selected_features)\n",
        "\n",
        "# from matplotlib import pyplot as plt\n",
        "\n",
        "# plt.plot(np.cumsum(pca.explained_variance_ratio_))   # As can be seen we take 30 components which captures almost all the variance\n",
        "# plt.xlabel('Number of components')\n",
        "# plt.ylabel('Cumulative variance')\n",
        "# plt.grid('True')\n",
        "# '''\n",
        "\n",
        "# # '''\n",
        "# from sklearn.decomposition import PCA\n",
        "# pca = PCA(0.95)   #Select those many components that capture 95% of the variance \n",
        "# pca.fit(training_selected_features)\n",
        "\n",
        "# training_features_transformed = pca.transform(training_selected_features)\n",
        "\n",
        "# train_data_array=np.asarray(training_features_transformed)\n",
        "# training_label_array=np.asarray(training_label)\n",
        "\n",
        "\n"
      ]
    },
    {
      "cell_type": "code",
      "execution_count": null,
      "metadata": {
        "id": "IvHOKEiBLgsh"
      },
      "outputs": [],
      "source": [
        "test_data=pd.read_csv('/content/gdrive/MyDrive/adultTest.csv')"
      ]
    },
    {
      "cell_type": "code",
      "execution_count": null,
      "metadata": {
        "id": "DtHSsWsmLh-k",
        "colab": {
          "base_uri": "https://localhost:8080/"
        },
        "outputId": "4efe5224-1258-443e-88fc-4c9da9103f07"
      },
      "outputs": [
        {
          "output_type": "stream",
          "name": "stdout",
          "text": [
            "Index(['Age', 'Workclass', 'fnlwgt', 'Education', 'Education-num',\n",
            "       'Marital-Status', 'Occupation', 'Relationship', 'Race', 'Sex',\n",
            "       'Capital-gain', 'Capital-loss', 'Hours-per-week', 'native-country',\n",
            "       'Earning'],\n",
            "      dtype='object')\n"
          ]
        }
      ],
      "source": [
        "print(test_data.columns)"
      ]
    },
    {
      "cell_type": "code",
      "execution_count": null,
      "metadata": {
        "id": "WH-Hf1_sqQPA",
        "colab": {
          "base_uri": "https://localhost:8080/"
        },
        "outputId": "4d9d9585-de47-4b23-f594-52aa4aa2a92f"
      },
      "outputs": [
        {
          "output_type": "stream",
          "name": "stdout",
          "text": [
            "<class 'pandas.core.frame.DataFrame'>\n",
            "RangeIndex: 16281 entries, 0 to 16280\n",
            "Data columns (total 15 columns):\n",
            " #   Column          Non-Null Count  Dtype \n",
            "---  ------          --------------  ----- \n",
            " 0   Age             16281 non-null  int64 \n",
            " 1   Workclass       15318 non-null  object\n",
            " 2   fnlwgt          16281 non-null  int64 \n",
            " 3   Education       16281 non-null  object\n",
            " 4   Education-num   16281 non-null  int64 \n",
            " 5   Marital-Status  16281 non-null  object\n",
            " 6   Occupation      15315 non-null  object\n",
            " 7   Relationship    16281 non-null  object\n",
            " 8   Race            16281 non-null  object\n",
            " 9   Sex             16281 non-null  object\n",
            " 10  Capital-gain    16281 non-null  int64 \n",
            " 11  Capital-loss    16281 non-null  int64 \n",
            " 12  Hours-per-week  16281 non-null  int64 \n",
            " 13  native-country  16007 non-null  object\n",
            " 14  Earning         16281 non-null  object\n",
            "dtypes: int64(6), object(9)\n",
            "memory usage: 1.9+ MB\n",
            "0        0\n",
            "1        0\n",
            "2        1\n",
            "3        1\n",
            "4        0\n",
            "        ..\n",
            "16276    0\n",
            "16277    0\n",
            "16278    0\n",
            "16279    0\n",
            "16280    1\n",
            "Name: Earning, Length: 16281, dtype: int64\n"
          ]
        }
      ],
      "source": [
        "#removing spaces\n",
        "for col in test_data.columns:\n",
        "  if(test_data.dtypes[col]=='object'):\n",
        "    arr = [ str(x).strip() for x in test_data[col].unique() ]\n",
        "    arr1=[str(x).strip() for x in test_data[col]]\n",
        "    test_data[col] = arr1\n",
        "\n",
        "#removing ?'s\n",
        "test_data.replace('?', np.NaN,inplace=True)\n",
        "test_data.info()\n",
        "\n",
        "testing_data=test_data.copy(deep=True)\n",
        "\n",
        "#testing_data.dropna(axis=0,how='any',inplace=True)\n",
        "testing_label=testing_data[\"Earning\"].map({'<=50K.':0,'>50K.':1})  #just to give binary labels\n",
        "testing_data.drop([\"Earning\"],axis=1,inplace=True)\n",
        "print(testing_label)"
      ]
    },
    {
      "cell_type": "code",
      "execution_count": null,
      "metadata": {
        "id": "oLb87RUBSYvY",
        "colab": {
          "base_uri": "https://localhost:8080/"
        },
        "outputId": "964a2057-c9c3-4719-edaa-556ff8e6b3ff"
      },
      "outputs": [
        {
          "output_type": "stream",
          "name": "stdout",
          "text": [
            "<class 'pandas.core.frame.DataFrame'>\n",
            "RangeIndex: 16281 entries, 0 to 16280\n",
            "Data columns (total 6 columns):\n",
            " #   Column          Non-Null Count  Dtype  \n",
            "---  ------          --------------  -----  \n",
            " 0   Age             16281 non-null  float64\n",
            " 1   fnlwgt          16281 non-null  float64\n",
            " 2   Education-num   16281 non-null  float64\n",
            " 3   Capital-gain    16281 non-null  float64\n",
            " 4   Capital-loss    16281 non-null  float64\n",
            " 5   Hours-per-week  16281 non-null  float64\n",
            "dtypes: float64(6)\n",
            "memory usage: 763.3 KB\n"
          ]
        }
      ],
      "source": [
        "#testing_data.drop([\"Education\"],axis=1,inplace=True)   #since it is a redundant feature\n",
        "#imputing\n",
        "# from sklearn.impute import SimpleImputer\n",
        "# imp = SimpleImputer(strategy=\"most_frequent\")\n",
        "# testing_data = pd.DataFrame(imp.fit_transform(testing_data), columns=list(testing_data.columns)).astype(test_data.dtypes.to_dict())\n",
        "testing_data['Workclass'] = testing_data['Workclass'].fillna('Private')\n",
        "testing_data['Occupation'] = testing_data['Occupation'].fillna('Prof-specialty')\n",
        "testing_data['native-country'] = testing_data['native-country'].fillna('United-States')\n",
        "#df['DataFrame Column'] = df['DataFrame Column'].fillna(0)\n",
        "#scaling\n",
        "from sklearn.preprocessing import StandardScaler  \n",
        "scaler = StandardScaler()  \n",
        "scaler.fit(dfMode.select_dtypes(\"int64\"))  \n",
        "testing_data_arr = scaler.transform(testing_data.select_dtypes(\"int64\"))  \n",
        "testing_data_num=pd.DataFrame(testing_data_arr,columns=columns_numeric)\n",
        "testing_data_num.info()\n",
        "testing_data_num.set_index(testing_data_num.index,inplace=True)"
      ]
    },
    {
      "cell_type": "code",
      "execution_count": null,
      "metadata": {
        "id": "e3_e4n5lLQuj",
        "colab": {
          "base_uri": "https://localhost:8080/"
        },
        "outputId": "4f7ece80-4a36-4971-e376-df1624ce1934"
      },
      "outputs": [
        {
          "output_type": "execute_result",
          "data": {
            "text/plain": [
              "Index(['Age', 'Workclass', 'fnlwgt', 'Education', 'Education-num',\n",
              "       'Marital-Status', 'Occupation', 'Relationship', 'Race', 'Sex',\n",
              "       'Capital-gain', 'Capital-loss', 'Hours-per-week', 'native-country'],\n",
              "      dtype='object')"
            ]
          },
          "metadata": {},
          "execution_count": 144
        }
      ],
      "source": [
        "testing_data.columns"
      ]
    },
    {
      "cell_type": "code",
      "execution_count": null,
      "metadata": {
        "id": "B5fbZ5aS9yDb",
        "colab": {
          "base_uri": "https://localhost:8080/"
        },
        "outputId": "52da1056-6154-4433-81c0-761c4c017742"
      },
      "outputs": [
        {
          "output_type": "stream",
          "name": "stdout",
          "text": [
            "14\n",
            "here 98\n"
          ]
        }
      ],
      "source": [
        "#testing_data['native-country'] = [' United States' if i == ' United-States'  else ' Out of United States' for i in testing_data['native-country']]\n",
        "print(testing_data.columns.size)\n",
        "testing_data_categorical = pd.get_dummies(testing_data.select_dtypes('object'))\n",
        "print(\"here {0}\".format(testing_data_categorical.columns.size));"
      ]
    },
    {
      "cell_type": "code",
      "execution_count": null,
      "metadata": {
        "id": "pL5I_aIo99Rw",
        "colab": {
          "base_uri": "https://localhost:8080/"
        },
        "outputId": "eeacbea7-ac0e-46b9-d980-0537a712817f"
      },
      "outputs": [
        {
          "output_type": "stream",
          "name": "stdout",
          "text": [
            "[]\n"
          ]
        }
      ],
      "source": [
        "testing_data_categorical=testing_data_categorical.astype(dtype='category')\n",
        "testing_data_onehotencoded = pd.concat([testing_data_num, testing_data_categorical], axis=1,join='inner')\n",
        "trCol = list(training_data_onehotencoded.columns)\n",
        "testCol = list(testing_data_onehotencoded.columns)\n",
        "#print(trCol)\n",
        "s = set(trCol)\n",
        "temp3 = [x for x in testCol if x not in s]\n",
        "print(temp3)    "
      ]
    },
    {
      "cell_type": "code",
      "execution_count": null,
      "metadata": {
        "id": "u_9IpMFQZd1t",
        "colab": {
          "base_uri": "https://localhost:8080/"
        },
        "outputId": "25c6f11f-42df-4709-e4e6-daaf87a672b6"
      },
      "outputs": [
        {
          "output_type": "stream",
          "name": "stdout",
          "text": [
            "99\n",
            "6\n"
          ]
        }
      ],
      "source": [
        "\n",
        "missing_test_col_set=set(training_data_onehotencoded.columns.values.tolist()).difference(testing_data_onehotencoded.columns.values.tolist())\n",
        "#print(list(missing_test_col_set))\n",
        "for i in range(len(list(missing_test_col_set))):\n",
        "    testing_data_onehotencoded.loc[ : , list(missing_test_col_set)[i]] = 0\n",
        "\n",
        "print(dfMode_categorical.columns.size)\n",
        "print(dfModeNum.columns.size)"
      ]
    },
    {
      "cell_type": "code",
      "execution_count": null,
      "metadata": {
        "id": "cOQ1PbfKX44q",
        "colab": {
          "base_uri": "https://localhost:8080/"
        },
        "outputId": "fa806b6f-43b6-44a6-f725-0d774f52fc10"
      },
      "outputs": [
        {
          "output_type": "stream",
          "name": "stderr",
          "text": [
            "/usr/local/lib/python3.8/dist-packages/sklearn/base.py:493: FutureWarning: The feature names should match those that were passed during fit. Starting version 1.2, an error will be raised.\n",
            "Feature names must be in the same order as they were in fit.\n",
            "\n",
            "  warnings.warn(message, FutureWarning)\n"
          ]
        }
      ],
      "source": [
        "testing_selected_features=kbest_selector.transform(testing_data_onehotencoded)\n",
        "# Below line of the code can be used when we want to do dimensionality reduction using PCA\n",
        "#testing_features_transformed = pca.transform(testing_selected_features)"
      ]
    },
    {
      "cell_type": "code",
      "source": [
        "dataComb = np.concatenate((train_data_array, np.array([training_label_array]).T), axis=1)\n",
        "\n",
        "idx = np.random.randint(dfrocount, size=10000)\n",
        "dataSubsampl = dataComb[idx,:]\n",
        "#print(dataSubsampl)\n",
        "train_data_array = dataSubsampl[:,0:30]\n",
        "training_label_array = dataSubsampl[:,30]\n",
        "print(train_data_array)\n",
        "print(training_label_array)"
      ],
      "metadata": {
        "id": "bDFqP6bn5L_F",
        "colab": {
          "base_uri": "https://localhost:8080/"
        },
        "outputId": "72b3acbe-f49f-49e4-8c6e-60bb1abfe22a"
      },
      "execution_count": null,
      "outputs": [
        {
          "output_type": "stream",
          "name": "stdout",
          "text": [
            "[[-0.18926719  1.13473876 -0.14592048 ...  0.          0.\n",
            "   1.        ]\n",
            " [ 0.47054606 -0.42005962 -0.14592048 ...  1.          0.\n",
            "   1.        ]\n",
            " [-0.32800506  1.13473876 -0.14592048 ...  1.          0.\n",
            "   1.        ]\n",
            " ...\n",
            " [ 0.02337418 -0.42005962 -0.14592048 ...  1.          0.\n",
            "   1.        ]\n",
            " [-0.18926719  0.35733957  0.84227497 ...  1.          1.\n",
            "   0.        ]\n",
            " [-0.48251753 -1.19745882 -0.14592048 ...  1.          0.\n",
            "   1.        ]]\n",
            "[0. 0. 1. ... 1. 1. 0.]\n"
          ]
        }
      ]
    },
    {
      "cell_type": "code",
      "source": [
        "print(training_label_array.shape)"
      ],
      "metadata": {
        "id": "zJE3bB9H5ctc",
        "colab": {
          "base_uri": "https://localhost:8080/"
        },
        "outputId": "4c38f492-e86d-49b0-bac2-42e3357253cd"
      },
      "execution_count": null,
      "outputs": [
        {
          "output_type": "stream",
          "name": "stdout",
          "text": [
            "(10000,)\n"
          ]
        }
      ]
    },
    {
      "cell_type": "code",
      "execution_count": null,
      "metadata": {
        "id": "OfMKu5M6PNh-",
        "colab": {
          "base_uri": "https://localhost:8080/"
        },
        "outputId": "7a902c7e-dd4c-41d2-ee6a-a1487d6e9bbc"
      },
      "outputs": [
        {
          "output_type": "stream",
          "name": "stdout",
          "text": [
            "Training f1 :  [0.78817204 0.81588785]\n",
            "Training accuracy 0.8134\n",
            "Optimal Hyper parameters : gamma :  0.46415888336127775  C: 0.021544346900318832\n"
          ]
        }
      ],
      "source": [
        "#Finding the optimal hyperparameters for SVM with linear kernel using cross validation\n",
        "import sklearn                         \n",
        "from sklearn import svm\n",
        "from sklearn import model_selection,metrics\n",
        "from statistics import mean\n",
        "\n",
        "fold = model_selection.StratifiedKFold(n_splits = 5,shuffle = True)\n",
        "C_val = np.logspace(-2,1,num=10)\n",
        "gamma_val = np.logspace(-2,1,num=10)\n",
        "size_gamma = np.size(gamma_val)\n",
        "size_c = np.size(C_val)\n",
        "optimal_gamma = -10 \n",
        "optimal_C = -10\n",
        "acc_max = -100\n",
        "f1_max = -10\n",
        "f1scorearr=[-1,-1]\n",
        "\n",
        "for i in range(0,size_gamma):\n",
        "    for j in range(0,size_c):\n",
        "        current_gamma = gamma_val[i]\n",
        "        #print(current_gamma)\n",
        "        current_C = C_val[j]\n",
        "        #print(current_C)\n",
        "        temp=[]\n",
        "        temp_f1=[];\n",
        "        for tr_idx,val_idx in fold.split(train_data_array,training_label_array):\n",
        "            X_train, X_val= train_data_array[tr_idx],train_data_array[val_idx]\n",
        "            y_train, y_val= training_label_array[tr_idx],training_label_array[val_idx]\n",
        "            svm_clf=svm.SVC(gamma=current_gamma,C=current_C,kernel='linear')\n",
        "            svm_clf.fit(X_train,y_train)\n",
        "            y_pred=svm_clf.predict(X_val)\n",
        "            acc_val = metrics.accuracy_score(y_val,y_pred)\n",
        "            f1_score = metrics.f1_score(y_val,y_pred);\n",
        "            #print(acc_val)\n",
        "            temp.append(acc_val)\n",
        "            temp_f1.append(f1_score);\n",
        "            \n",
        "        if  mean(temp) > acc_max:\n",
        "            acc_max = mean(temp)\n",
        "            #optimal_gamma = gamma_val[i]\n",
        "        #     optimal_C = C_val[j]\n",
        "\n",
        "        if mean(temp_f1) > f1_max:\n",
        "                f1_max = mean(temp_f1)\n",
        "                optimal_gamma = gamma_val[i]\n",
        "                optimal_C = C_val[j]\n",
        "                f1scorearr = metrics.f1_score(y_val,y_pred,average=None)\n",
        "print(\"Training f1 : \",f1scorearr);\n",
        "print(\"Training accuracy {0}\".format(acc_max));\n",
        "print(\"Optimal Hyper parameters : gamma : \",optimal_gamma,\" C:\",optimal_C)"
      ]
    },
    {
      "cell_type": "code",
      "source": [
        "#Testing using penalized SVM classifier with linear kernel \n",
        "\n",
        "svm_clf=svm.SVC(kernel='linear',C=optimal_C,gamma=optimal_gamma,class_weight='balanced')\n",
        "svm_clf.fit(training_selected_features,training_label)\n",
        "\n",
        "predicted_label = svm_clf.predict(testing_selected_features)\n",
        "testing_accuracy=metrics.accuracy_score(testing_label,predicted_label)\n",
        "print(testing_accuracy)\n",
        "#report_an=metrics.precision_recall_fscore_support(testing_label,predicted_label,average='binary')  \n",
        "#print(report_an)\n",
        "report=metrics.classification_report(testing_label,predicted_label)\n",
        "print(report)\n",
        "\n",
        "auc_score=metrics.roc_auc_score(testing_label,predicted_label,average='macro')\n",
        "print(auc_score)"
      ],
      "metadata": {
        "id": "O64qW84g93bV"
      },
      "execution_count": null,
      "outputs": []
    },
    {
      "cell_type": "code",
      "source": [
        "#Testing using penalized SVM classifier with linear kernel\n",
        "\n",
        "svm_clf=svm.SVC(kernel='linear',C=optimal_C,gamma=optimal_gamma,class_weight={0: 1, 1: 3})\n",
        "svm_clf.fit(training_selected_features,training_label)\n",
        "\n",
        "predicted_label = svm_clf.predict(testing_selected_features)\n",
        "testing_accuracy=metrics.accuracy_score(testing_label,predicted_label)\n",
        "print(testing_accuracy)\n",
        "#report_an=metrics.precision_recall_fscore_support(testing_label,predicted_label,average='binary')  \n",
        "#print(report_an)\n",
        "report=metrics.classification_report(testing_label,predicted_label)\n",
        "print(report)\n",
        "\n",
        "auc_score=metrics.roc_auc_score(testing_label,predicted_label,average='macro')\n",
        "print(auc_score)"
      ],
      "metadata": {
        "id": "2Xs471Tu_Q6n"
      },
      "execution_count": null,
      "outputs": []
    },
    {
      "cell_type": "code",
      "source": [
        "## added new"
      ],
      "metadata": {
        "id": "z-PsZq8ewJlh"
      },
      "execution_count": null,
      "outputs": []
    },
    {
      "cell_type": "code",
      "source": [
        "# To visualize the performance difference between normal and weighted(penalized) SVM with linear kernel\n",
        "import numpy as np\n",
        "import matplotlib.pyplot as plt\n",
        "from sklearn import svm\n",
        "from sklearn.datasets import make_blobs\n",
        "\n",
        "# we create two clusters of random points\n",
        "n_samples_1 = training_label.value_counts().iloc[0]\n",
        "n_samples_2 = training_label.value_counts().iloc[1]\n",
        "centers = [[0.0, 0.0], [2.0, 2.0]]\n",
        "clusters_std = [1.5, 0.5]\n",
        "X, y = make_blobs(n_samples=[n_samples_1, n_samples_2],\n",
        "                  centers=centers,\n",
        "                  cluster_std=clusters_std,\n",
        "                  random_state=0, shuffle=False)\n",
        "\n",
        "# fit the model and get the separating hyperplane\n",
        "clf = svm.SVC(kernel='linear', C=optimal_C,gamma=optimal_gamma)\n",
        "clf.fit(X, y)\n",
        "\n",
        "# fit the model and get the separating hyperplane using weighted classes\n",
        "wclf = svm.SVC(kernel='linear', class_weight='balanced',C=optimal_C,gamma=optimal_gamma)\n",
        "wclf.fit(X, y)\n",
        "\n",
        "# plot the samples\n",
        "plt.scatter(X[:, 0], X[:, 1], c=y, cmap=plt.cm.Paired, edgecolors='k')\n",
        "\n",
        "# plot the decision functions for both classifiers\n",
        "ax = plt.gca()\n",
        "xlim = ax.get_xlim()\n",
        "ylim = ax.get_ylim()\n",
        "\n",
        "# create grid to evaluate model\n",
        "xx = np.linspace(xlim[0], xlim[1], 30)\n",
        "yy = np.linspace(ylim[0], ylim[1], 30)\n",
        "YY, XX = np.meshgrid(yy, xx)\n",
        "xy = np.vstack([XX.ravel(), YY.ravel()]).T\n",
        "\n",
        "# get the separating hyperplane\n",
        "Z = clf.decision_function(xy).reshape(XX.shape)\n",
        "\n",
        "# plot decision boundary and margins\n",
        "a = ax.contour(XX, YY, Z, colors=['green','black'], levels=[0], alpha=0.5, linestyles=['-'])\n",
        "\n",
        "# get the separating hyperplane for weighted classes\n",
        "Z = wclf.decision_function(xy).reshape(XX.shape)\n",
        "\n",
        "# plot decision boundary and margins for weighted classes\n",
        "b = ax.contour(XX, YY, Z, colors='r', levels=[0], alpha=0.5, linestyles=['-'])\n",
        "\n",
        "plt.legend([a.collections[0], b.collections[0]], [\"non weighted\", \"weighted\"],\n",
        "           loc=\"upper right\")\n",
        "plt.show()\n",
        "\n",
        "#This portion of the code has been taken from the scikit-learn documnetation examples"
      ],
      "metadata": {
        "colab": {
          "base_uri": "https://localhost:8080/",
          "height": 267
        },
        "id": "mvQds91ZwMlQ",
        "outputId": "b3e64c58-10af-4206-e8e9-aaa215dfbc62"
      },
      "execution_count": null,
      "outputs": [
        {
          "output_type": "display_data",
          "data": {
            "text/plain": [
              "<Figure size 432x288 with 1 Axes>"
            ],
            "image/png": "[encoded data removed]"
          },
          "metadata": {
            "needs_background": "light"
          }
        }
      ]
    },
    {
      "cell_type": "code",
      "source": [
        "##added new"
      ],
      "metadata": {
        "id": "UHPAxRPzwK4i"
      },
      "execution_count": null,
      "outputs": []
    },
    {
      "cell_type": "code",
      "execution_count": null,
      "metadata": {
        "id": "3LxlOe_VqUFC",
        "colab": {
          "base_uri": "https://localhost:8080/"
        },
        "outputId": "5171db5b-69a6-4317-be3f-3c094fc4f915"
      },
      "outputs": [
        {
          "output_type": "stream",
          "name": "stdout",
          "text": [
            "Optimal Value : No. of neighbors :  5\n",
            "Training Accuracy :  0.859375\n",
            "Training F1 Score :  0.8606452878297539\n",
            "Training F1 Score Array:  [0.85165466 0.86064529]\n"
          ]
        }
      ],
      "source": [
        "\n",
        "#FInd best parameters for KNN using cross validation \n",
        "\n",
        "import sklearn                          \n",
        "from sklearn.neighbors import KNeighborsClassifier\n",
        "from sklearn import model_selection,metrics\n",
        "from statistics import mean\n",
        "\n",
        "folds = model_selection.StratifiedKFold(n_splits = 5,shuffle = True)\n",
        "neighbors_num = np.arange(1,25)\n",
        "acc_max = -1000\n",
        "f1_max=-10\n",
        "neighbors_opt = -10\n",
        "f1scorearr=[-1,-1]\n",
        "for i in range(0,np.size(neighbors_num)):\n",
        "        #n_trial = g[i]\n",
        "        temp=[]\n",
        "        tempacc=[]\n",
        "        for tr_ind,v_ind in folds.split(train_data_array,training_label_array):\n",
        "            X_train, X_val = train_data_array[tr_ind],train_data_array[v_ind]\n",
        "            y_train, y_val = training_label_array[tr_ind],training_label_array[v_ind]\n",
        "            knn_clf = KNeighborsClassifier(n_neighbors = neighbors_num[i])\n",
        "            knn_clf.fit(X_train,y_train)\n",
        "            y_pred = knn_clf.predict(X_val)\n",
        "            acc_val = metrics.accuracy_score(y_val,y_pred)\n",
        "            f1_score = metrics.f1_score(y_val,y_pred)\n",
        "            tempacc.append(acc_val)\n",
        "            temp.append(f1_score)\n",
        "            if mean(tempacc) > acc_max:\n",
        "                acc_max = mean(tempacc)\n",
        "                #neighbors_opt = neighbors_num[i]\n",
        "\n",
        "            if mean(temp) > f1_max:\n",
        "                f1_max = mean(temp)\n",
        "                neighbors_opt = neighbors_num[i]\n",
        "                f1scorearr = metrics.f1_score(y_val,y_pred,average=None)\n",
        "                        \n",
        "print(\"Optimal Value : No. of neighbors : \",neighbors_opt)\n",
        "print(\"Training Accuracy : \",acc_max)\n",
        "print(\"Training F1 Score : \",f1_max)\n",
        "print(\"Training F1 Score Array: \",f1scorearr)\n"
      ]
    },
    {
      "cell_type": "code",
      "execution_count": null,
      "metadata": {
        "id": "AdxAKJngsDLp",
        "colab": {
          "base_uri": "https://localhost:8080/"
        },
        "outputId": "d860bf36-a45b-4a0d-b63d-3e1691b1ccb4"
      },
      "outputs": [
        {
          "output_type": "stream",
          "name": "stdout",
          "text": [
            "Test accuracy:  0.8045574596155027\n",
            "Test f1 score:  [0.86565904 0.64150518]\n",
            "              precision    recall  f1-score   support\n",
            "\n",
            "           0       0.91      0.82      0.87     12435\n",
            "           1       0.57      0.74      0.64      3846\n",
            "\n",
            "    accuracy                           0.80     16281\n",
            "   macro avg       0.74      0.78      0.75     16281\n",
            "weighted avg       0.83      0.80      0.81     16281\n",
            "\n",
            "0.7823483675173304\n"
          ]
        }
      ],
      "source": [
        "knn_clf=KNeighborsClassifier(n_neighbors = neighbors_opt)\n",
        "knn_clf.fit(training_selected_features,training_label)\n",
        "\n",
        "predicted_label = knn_clf.predict(testing_selected_features)\n",
        "testing_accuracyKNN=metrics.accuracy_score(testing_label,predicted_label)\n",
        "testing_f1scoreKNN = metrics.f1_score(testing_label, predicted_label, average=None)\n",
        "print(\"Test accuracy: \",testing_accuracyKNN)\n",
        "print(\"Test f1 score: \",testing_f1scoreKNN)\n",
        "#report_an=metrics.precision_recall_fscore_support(testing_label,predicted_label,average='binary')  \n",
        "#print(report_an)\n",
        "report=metrics.classification_report(testing_label,predicted_label)\n",
        "print(report)\n",
        "\n",
        "auc_score=metrics.roc_auc_score(testing_label,predicted_label,average='macro')\n",
        "print(auc_score)"
      ]
    },
    {
      "cell_type": "code",
      "execution_count": null,
      "metadata": {
        "id": "6Pb_KrvWClk5",
        "colab": {
          "base_uri": "https://localhost:8080/"
        },
        "outputId": "d5ceed70-26a6-4515-dd53-ad57a4f49ac4"
      },
      "outputs": [
        {
          "output_type": "stream",
          "name": "stdout",
          "text": [
            "<class 'list'>\n",
            "0:  12435\n"
          ]
        }
      ],
      "source": [
        "print(type(list(testing_label)))\n",
        "print(\"0: \", list(testing_label).count(0))"
      ]
    },
    {
      "cell_type": "code",
      "execution_count": null,
      "metadata": {
        "id": "2ZNFNbrEvn3-",
        "colab": {
          "base_uri": "https://localhost:8080/"
        },
        "outputId": "870aae47-d52f-48cb-d09b-68fdc2735bba"
      },
      "outputs": [
        {
          "output_type": "stream",
          "name": "stdout",
          "text": [
            "Test accuracy:  0.752656470732756\n",
            "Test f1 score:  [0.81580753 0.62360968]\n",
            "Train accuracy:  0.7961974110032363\n",
            "Train f1 score:  [0.77764046 0.81189561]\n",
            "              precision    recall  f1-score   support\n",
            "\n",
            "           0       0.95      0.72      0.82     12435\n",
            "           1       0.49      0.87      0.62      3846\n",
            "\n",
            "    accuracy                           0.75     16281\n",
            "   macro avg       0.72      0.79      0.72     16281\n",
            "weighted avg       0.84      0.75      0.77     16281\n",
            "\n",
            "0.7922819880225849\n"
          ]
        }
      ],
      "source": [
        "#Using Naive Bayes (Gaussian) classifier \n",
        "\n",
        "import sklearn                          \n",
        "from sklearn.naive_bayes import GaussianNB\n",
        "from sklearn import model_selection,metrics\n",
        "from statistics import mean\n",
        "\n",
        "nb_clf=GaussianNB()\n",
        "nb_clf.fit(training_selected_features,training_label)\n",
        "\n",
        "#Test Data Accuracies\n",
        "predicted_label = nb_clf.predict(testing_selected_features)\n",
        "testing_accuracyNB=metrics.accuracy_score(testing_label,predicted_label)\n",
        "testing_f1scoreNB = metrics.f1_score(testing_label, predicted_label, average=None)\n",
        "print(\"Test accuracy: \",testing_accuracyNB)\n",
        "print(\"Test f1 score: \",testing_f1scoreNB)\n",
        "\n",
        "#Train Data Accuracies\n",
        "predicted_labelTr = nb_clf.predict(training_selected_features)\n",
        "training_accuracyNB=metrics.accuracy_score(training_label,predicted_labelTr)\n",
        "training_f1scoreNB = metrics.f1_score(training_label,predicted_labelTr, average=None)\n",
        "print(\"Train accuracy: \",training_accuracyNB)\n",
        "print(\"Train f1 score: \",training_f1scoreNB)\n",
        "\n",
        "#report_an=metrics.precision_recall_fscore_support(testing_label,predicted_label,average='binary')  \n",
        "#print(report_an)\n",
        "report=metrics.classification_report(testing_label,predicted_label)\n",
        "print(report)\n",
        "\n",
        "auc_score=metrics.roc_auc_score(testing_label,predicted_label,average='macro')\n",
        "print(auc_score)"
      ]
    },
    {
      "cell_type": "code",
      "execution_count": null,
      "metadata": {
        "id": "d384jq_8jYBk",
        "colab": {
          "base_uri": "https://localhost:8080/"
        },
        "outputId": "0ab7b217-0dac-4221-b81b-42bc4e709fed"
      },
      "outputs": [
        {
          "output_type": "stream",
          "name": "stdout",
          "text": [
            "Training Accuracy :  0.8630663430420712\n",
            "Training F1 Score :  0.866908863821805\n",
            "Optimal Value : Max depth :  16\n",
            "Training F1 Score Array:  [0.86279821 0.87059055]\n"
          ]
        }
      ],
      "source": [
        "#Find best parameters for Decision Tree using cross validation \n",
        "\n",
        "import sklearn                          \n",
        "from sklearn.tree import DecisionTreeClassifier\n",
        "from sklearn import model_selection,metrics\n",
        "from statistics import mean\n",
        "\n",
        "folds = model_selection.StratifiedKFold(n_splits = 5,shuffle = True)\n",
        "depth_val = np.arange(1,100)\n",
        "acc_max = -1000\n",
        "f1_max = -10\n",
        "opt_dep = -10\n",
        "f1scorearr=[-1,-1]\n",
        "for i in range(0,np.size(depth_val)):\n",
        "        temp=[]\n",
        "        tempacc=[]\n",
        "       # print(i)\n",
        "       # n_trial = depth_val[i]\n",
        "        for tr_ind,v_ind in folds.split(train_data_array,training_label_array):\n",
        "            X_train, X_val = train_data_array[tr_ind],train_data_array[v_ind]\n",
        "            y_train, y_val = training_label_array[tr_ind],training_label_array[v_ind]\n",
        "            dectree_clf = DecisionTreeClassifier(max_depth = depth_val[i])\n",
        "            dectree_clf.fit(X_train,y_train)\n",
        "            y_pred = dectree_clf.predict(X_val)\n",
        "            acc_val = metrics.accuracy_score(y_val,y_pred)\n",
        "            f1_score = metrics.f1_score(y_val,y_pred)\n",
        "            temp.append(f1_score)\n",
        "            tempacc.append(acc_val)\n",
        "            \n",
        "            if mean(tempacc) > acc_max:\n",
        "                acc_max = mean(tempacc)\n",
        "                #neighbors_opt = neighbors_num[i]\n",
        "\n",
        "            if mean(temp) > f1_max:\n",
        "                f1_max = mean(temp)\n",
        "                opt_dep = depth_val[i]\n",
        "                f1scorearr = metrics.f1_score(y_val,y_pred,average=None)\n",
        "print(\"Training Accuracy : \",acc_max)                    \n",
        "print(\"Training F1 Score : \",f1_max)\n",
        "print(\"Optimal Value : Max depth : \",opt_dep)\n",
        "print(\"Training F1 Score Array: \",f1scorearr)    \n"
      ]
    },
    {
      "cell_type": "code",
      "execution_count": null,
      "metadata": {
        "id": "bGqTsf47pqMy",
        "colab": {
          "base_uri": "https://localhost:8080/"
        },
        "outputId": "dbbb497e-3b78-4525-cb2d-22ec945ee292"
      },
      "outputs": [
        {
          "output_type": "stream",
          "name": "stdout",
          "text": [
            "Test accuracy:  0.8124808058473066\n",
            "Test f1 score:  0.665131073818142\n",
            "              precision    recall  f1-score   support\n",
            "\n",
            "           0       0.93      0.82      0.87     12435\n",
            "           1       0.58      0.79      0.67      3846\n",
            "\n",
            "    accuracy                           0.81     16281\n",
            "   macro avg       0.75      0.80      0.77     16281\n",
            "weighted avg       0.84      0.81      0.82     16281\n",
            "\n",
            "0.8041476206696037\n"
          ]
        }
      ],
      "source": [
        "#Decision Tree on test data\n",
        "\n",
        "dectree_clf=DecisionTreeClassifier(max_depth = opt_dep)\n",
        "dectree_clf.fit(training_selected_features,training_label)\n",
        "\n",
        "predicted_label = dectree_clf.predict(testing_selected_features)\n",
        "testing_accuracyDT=metrics.accuracy_score(testing_label,predicted_label)\n",
        "testing_f1scoreDT = metrics.f1_score(testing_label, predicted_label)\n",
        "print(\"Test accuracy: \",testing_accuracyDT)\n",
        "print(\"Test f1 score: \",testing_f1scoreDT)\n",
        "#report_an=metrics.precision_recall_fscore_support(testing_label,predicted_label,average='binary')  \n",
        "#print(report_an)\n",
        "report=metrics.classification_report(testing_label,predicted_label)\n",
        "print(report)\n",
        "\n",
        "auc_score=metrics.roc_auc_score(testing_label,predicted_label,average='macro')\n",
        "print(auc_score)"
      ]
    },
    {
      "cell_type": "code",
      "execution_count": null,
      "metadata": {
        "id": "XVFrZiEPyvdJ",
        "colab": {
          "base_uri": "https://localhost:8080/"
        },
        "outputId": "cadd313c-6a9b-433f-9d84-013f92cc46e4"
      },
      "outputs": [
        {
          "output_type": "stream",
          "name": "stdout",
          "text": [
            "(49440, 30)\n",
            "(49440,)\n"
          ]
        }
      ],
      "source": [
        "print(train_data_array.shape)\n",
        "print(training_label_array.shape)"
      ]
    },
    {
      "cell_type": "code",
      "execution_count": null,
      "metadata": {
        "id": "m4VEo3Kg1BYY",
        "colab": {
          "base_uri": "https://localhost:8080/"
        },
        "outputId": "0f183b12-835f-4ce6-a4cc-9df3706f3e7e"
      },
      "outputs": [
        {
          "output_type": "stream",
          "name": "stdout",
          "text": [
            "[[-0.55583011 -0.42005962 -0.14592048 ...  1.          0.\n",
            "   1.        ]\n",
            " [-0.09371025  0.74603917 -0.14592048 ...  1.          0.\n",
            "   1.        ]\n",
            " [-1.58220629 -1.97485801 -0.14592048 ...  1.          0.\n",
            "   1.        ]\n",
            " ...\n",
            " [ 1.48426059 -1.58615841 -0.14592048 ...  1.          0.\n",
            "   1.        ]\n",
            " [-0.6291427  -0.42005962 -0.14592048 ...  1.          0.\n",
            "   1.        ]\n",
            " [ 1.87774657  1.91213796 -0.14592048 ...  1.          0.\n",
            "   1.        ]]\n",
            "[1. 1. 0. ... 1. 0. 1.]\n"
          ]
        }
      ],
      "source": [
        "dataComb = np.concatenate((train_data_array, np.array([training_label_array]).T), axis=1)\n",
        "\n",
        "idx = np.random.randint(dfrocount, size=10000)\n",
        "dataSubsampl = dataComb[idx,:]\n",
        "#print(dataSubsampl)\n",
        "train_data_array = dataSubsampl[:,0:30]\n",
        "training_label_array = dataSubsampl[:,30]\n",
        "print(train_data_array)\n",
        "print(training_label_array)"
      ]
    },
    {
      "cell_type": "code",
      "execution_count": null,
      "metadata": {
        "colab": {
          "base_uri": "https://localhost:8080/"
        },
        "id": "mIgQyp3GwSoJ",
        "outputId": "d892b35c-ddeb-4637-ffd7-96c9f635f828"
      },
      "outputs": [
        {
          "output_type": "stream",
          "name": "stdout",
          "text": [
            "Training Accuracy :  0.902\n",
            "Training F1 Score :  0.9025844930417495\n",
            "Optimal Value : No.of estimators :  44\n",
            "Training F1 Score Array:  [0.90140845 0.90258449]\n"
          ]
        }
      ],
      "source": [
        "#Find best parameters for Random Forest using cross validation \n",
        "\n",
        "import sklearn                          \n",
        "from sklearn.ensemble import RandomForestClassifier\n",
        "from sklearn import model_selection,metrics\n",
        "from statistics import mean\n",
        "\n",
        "folds = model_selection.StratifiedKFold(n_splits = 10,shuffle = True)\n",
        "estimators_num = np.arange(1,100)\n",
        "acc_max = -1000\n",
        "f1_max = -10\n",
        "opt_est = -10\n",
        "f1scorearr=[-1,-1]\n",
        "for i in range(0,np.size(estimators_num)):\n",
        "        temp=[]\n",
        "        tempacc=[]\n",
        "        #n_trial = g[i]\n",
        "        for tr_ind,v_ind in folds.split(train_data_array,training_label_array):\n",
        "            X_train, X_val = train_data_array[tr_ind],train_data_array[v_ind]\n",
        "            y_train, y_val = training_label_array[tr_ind],training_label_array[v_ind]\n",
        "            rand_forest_clf = RandomForestClassifier(n_estimators = estimators_num[i])\n",
        "            rand_forest_clf.fit(X_train,y_train)\n",
        "            y_pred = rand_forest_clf.predict(X_val)\n",
        "            acc_val = metrics.accuracy_score(y_val,y_pred)\n",
        "            f1_score = metrics.f1_score(y_val,y_pred)\n",
        "            tempacc.append(acc_val)\n",
        "            temp.append(f1_score)\n",
        "            # if mean(temp) > acc_max:\n",
        "            #     acc_max = mean(temp)\n",
        "            #     opt_est = estimators_num[i]\n",
        "\n",
        "            if mean(tempacc) > acc_max:\n",
        "                acc_max = mean(tempacc)\n",
        "                #neighbors_opt = neighbors_num[i]\n",
        "\n",
        "            if mean(temp) > f1_max:\n",
        "                f1_max = mean(temp)\n",
        "                opt_est = estimators_num[i]\n",
        "                f1scorearr = metrics.f1_score(y_val,y_pred,average=None)\n",
        "print(\"Training Accuracy : \",acc_max)  \n",
        "print(\"Training F1 Score : \",f1_max)                  \n",
        "print(\"Optimal Value : No.of estimators : \",opt_est)\n",
        "print(\"Training F1 Score Array: \",f1scorearr)        "
      ]
    },
    {
      "cell_type": "code",
      "source": [
        "print((training_selected_features).shape)"
      ],
      "metadata": {
        "colab": {
          "base_uri": "https://localhost:8080/"
        },
        "id": "znzzu9jPCj9u",
        "outputId": "d3498d2b-47c6-410b-cd50-75d0eba6ade7"
      },
      "execution_count": null,
      "outputs": [
        {
          "output_type": "stream",
          "name": "stdout",
          "text": [
            "(49440, 30)\n"
          ]
        }
      ]
    },
    {
      "cell_type": "code",
      "execution_count": null,
      "metadata": {
        "colab": {
          "base_uri": "https://localhost:8080/"
        },
        "id": "ulibC5Qd9zDS",
        "outputId": "0d364f77-71c7-461f-9380-676eef9a08ac"
      },
      "outputs": [
        {
          "output_type": "stream",
          "name": "stdout",
          "text": [
            "Test accuracy:  0.835329525213439\n",
            "Test f1 score:  0.6538411878631376\n",
            "              precision    recall  f1-score   support\n",
            "\n",
            "           0       0.89      0.89      0.89     12435\n",
            "           1       0.65      0.66      0.65      3846\n",
            "\n",
            "    accuracy                           0.84     16281\n",
            "   macro avg       0.77      0.77      0.77     16281\n",
            "weighted avg       0.84      0.84      0.84     16281\n",
            "\n",
            "0.7742073446508427\n"
          ]
        }
      ],
      "source": [
        "#Random Forest on test data\n",
        "\n",
        "rand_forest_clf=RandomForestClassifier(n_estimators = opt_est)\n",
        "rand_forest_clf.fit(training_selected_features,training_label)\n",
        "\n",
        "predicted_label = rand_forest_clf.predict(testing_selected_features)\n",
        "testing_accuracyRF=metrics.accuracy_score(testing_label,predicted_label)\n",
        "testing_f1scoreRF = metrics.f1_score(testing_label, predicted_label)\n",
        "print(\"Test accuracy: \",testing_accuracyRF)\n",
        "print(\"Test f1 score: \",testing_f1scoreRF)\n",
        "#report_an=metrics.precision_recall_fscore_support(testing_label,predicted_label,average='binary')  \n",
        "#print(report_an)\n",
        "report=metrics.classification_report(testing_label,predicted_label)\n",
        "print(report)\n",
        "\n",
        "auc_score=metrics.roc_auc_score(testing_label,predicted_label,average='macro')\n",
        "print(auc_score)"
      ]
    },
    {
      "cell_type": "code",
      "execution_count": null,
      "metadata": {
        "colab": {
          "base_uri": "https://localhost:8080/"
        },
        "id": "IiaxOsQhLFip",
        "outputId": "8a8eaca7-c9a9-420c-de56-0e4820c454ea"
      },
      "outputs": [
        {
          "data": {
            "text/plain": [
              "array([0, 1, 0, ..., 0, 1, 0])"
            ]
          },
          "execution_count": 531,
          "metadata": {},
          "output_type": "execute_result"
        }
      ],
      "source": [
        "predicted_label"
      ]
    }
  ],
  "metadata": {
    "colab": {
      "provenance": []
    },
    "gpuClass": "standard",
    "kernelspec": {
      "display_name": "Python 3",
      "name": "python3"
    },
    "language_info": {
      "name": "python"
    },
    "accelerator": "GPU"
  },
  "nbformat": 4,
  "nbformat_minor": 0
}